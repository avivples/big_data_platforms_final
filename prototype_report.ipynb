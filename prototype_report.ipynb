{
 "nbformat": 4,
 "nbformat_minor": 0,
 "metadata": {
  "kernelspec": {
   "display_name": "Python 3",
   "language": "python",
   "name": "python3"
  },
  "language_info": {
   "codemirror_mode": {
    "name": "ipython",
    "version": 3
   },
   "file_extension": ".py",
   "mimetype": "text/x-python",
   "name": "python",
   "nbconvert_exporter": "python",
   "pygments_lexer": "ipython3",
   "version": "3.8.5"
  },
  "colab": {
   "name": "prototype.ipynb",
   "provenance": [],
   "collapsed_sections": []
  },
  "widgets": {
   "application/vnd.jupyter.widget-state+json": {
    "7120b01096f04ebbb537845d67327c11": {
     "model_module": "@jupyter-widgets/controls",
     "model_name": "HBoxModel",
     "model_module_version": "1.5.0",
     "state": {
      "_view_name": "HBoxView",
      "_dom_classes": [],
      "_model_name": "HBoxModel",
      "_view_module": "@jupyter-widgets/controls",
      "_model_module_version": "1.5.0",
      "_view_count": null,
      "_view_module_version": "1.5.0",
      "box_style": "",
      "layout": "IPY_MODEL_6fe6993bc8b949929eceb72d0ae46482",
      "_model_module": "@jupyter-widgets/controls",
      "children": [
       "IPY_MODEL_b53956d2d0264dc2a74a578de680f6df",
       "IPY_MODEL_1d750f0d627842ceb868cbcc3fdfb99d",
       "IPY_MODEL_6242dc43310045ce906c262ab4c3225b"
      ]
     }
    },
    "6fe6993bc8b949929eceb72d0ae46482": {
     "model_module": "@jupyter-widgets/base",
     "model_name": "LayoutModel",
     "model_module_version": "1.2.0",
     "state": {
      "_view_name": "LayoutView",
      "grid_template_rows": null,
      "right": null,
      "justify_content": null,
      "_view_module": "@jupyter-widgets/base",
      "overflow": null,
      "_model_module_version": "1.2.0",
      "_view_count": null,
      "flex_flow": null,
      "width": null,
      "min_width": null,
      "border": null,
      "align_items": null,
      "bottom": null,
      "_model_module": "@jupyter-widgets/base",
      "top": null,
      "grid_column": null,
      "overflow_y": null,
      "overflow_x": null,
      "grid_auto_flow": null,
      "grid_area": null,
      "grid_template_columns": null,
      "flex": null,
      "_model_name": "LayoutModel",
      "justify_items": null,
      "grid_row": null,
      "max_height": null,
      "align_content": null,
      "visibility": null,
      "align_self": null,
      "height": null,
      "min_height": null,
      "padding": null,
      "grid_auto_rows": null,
      "grid_gap": null,
      "max_width": null,
      "order": null,
      "_view_module_version": "1.2.0",
      "grid_template_areas": null,
      "object_position": null,
      "object_fit": null,
      "grid_auto_columns": null,
      "margin": null,
      "display": null,
      "left": null
     }
    },
    "b53956d2d0264dc2a74a578de680f6df": {
     "model_module": "@jupyter-widgets/controls",
     "model_name": "HTMLModel",
     "model_module_version": "1.5.0",
     "state": {
      "_view_name": "HTMLView",
      "style": "IPY_MODEL_0e94a54e51b8405688a356a64fbab534",
      "_dom_classes": [],
      "description": "",
      "_model_name": "HTMLModel",
      "placeholder": "​",
      "_view_module": "@jupyter-widgets/controls",
      "_model_module_version": "1.5.0",
      "value": "100%",
      "_view_count": null,
      "_view_module_version": "1.5.0",
      "description_tooltip": null,
      "_model_module": "@jupyter-widgets/controls",
      "layout": "IPY_MODEL_c7b23530b66f4d6a957e02e3defb6ac0"
     }
    },
    "1d750f0d627842ceb868cbcc3fdfb99d": {
     "model_module": "@jupyter-widgets/controls",
     "model_name": "FloatProgressModel",
     "model_module_version": "1.5.0",
     "state": {
      "_view_name": "ProgressView",
      "style": "IPY_MODEL_323562d47e9e48d0b445bf651d4e0115",
      "_dom_classes": [],
      "description": "",
      "_model_name": "FloatProgressModel",
      "bar_style": "success",
      "max": 500,
      "_view_module": "@jupyter-widgets/controls",
      "_model_module_version": "1.5.0",
      "value": 500,
      "_view_count": null,
      "_view_module_version": "1.5.0",
      "orientation": "horizontal",
      "min": 0,
      "description_tooltip": null,
      "_model_module": "@jupyter-widgets/controls",
      "layout": "IPY_MODEL_998b30ecf25e4df392e83e0550773338"
     }
    },
    "6242dc43310045ce906c262ab4c3225b": {
     "model_module": "@jupyter-widgets/controls",
     "model_name": "HTMLModel",
     "model_module_version": "1.5.0",
     "state": {
      "_view_name": "HTMLView",
      "style": "IPY_MODEL_80a291350cf543a2b091394e826d3597",
      "_dom_classes": [],
      "description": "",
      "_model_name": "HTMLModel",
      "placeholder": "​",
      "_view_module": "@jupyter-widgets/controls",
      "_model_module_version": "1.5.0",
      "value": " 500/500 [00:16&lt;00:00, 29.45it/s]",
      "_view_count": null,
      "_view_module_version": "1.5.0",
      "description_tooltip": null,
      "_model_module": "@jupyter-widgets/controls",
      "layout": "IPY_MODEL_20f07c7442ab49d293c8681f32474127"
     }
    },
    "0e94a54e51b8405688a356a64fbab534": {
     "model_module": "@jupyter-widgets/controls",
     "model_name": "DescriptionStyleModel",
     "model_module_version": "1.5.0",
     "state": {
      "_view_name": "StyleView",
      "_model_name": "DescriptionStyleModel",
      "description_width": "",
      "_view_module": "@jupyter-widgets/base",
      "_model_module_version": "1.5.0",
      "_view_count": null,
      "_view_module_version": "1.2.0",
      "_model_module": "@jupyter-widgets/controls"
     }
    },
    "c7b23530b66f4d6a957e02e3defb6ac0": {
     "model_module": "@jupyter-widgets/base",
     "model_name": "LayoutModel",
     "model_module_version": "1.2.0",
     "state": {
      "_view_name": "LayoutView",
      "grid_template_rows": null,
      "right": null,
      "justify_content": null,
      "_view_module": "@jupyter-widgets/base",
      "overflow": null,
      "_model_module_version": "1.2.0",
      "_view_count": null,
      "flex_flow": null,
      "width": null,
      "min_width": null,
      "border": null,
      "align_items": null,
      "bottom": null,
      "_model_module": "@jupyter-widgets/base",
      "top": null,
      "grid_column": null,
      "overflow_y": null,
      "overflow_x": null,
      "grid_auto_flow": null,
      "grid_area": null,
      "grid_template_columns": null,
      "flex": null,
      "_model_name": "LayoutModel",
      "justify_items": null,
      "grid_row": null,
      "max_height": null,
      "align_content": null,
      "visibility": null,
      "align_self": null,
      "height": null,
      "min_height": null,
      "padding": null,
      "grid_auto_rows": null,
      "grid_gap": null,
      "max_width": null,
      "order": null,
      "_view_module_version": "1.2.0",
      "grid_template_areas": null,
      "object_position": null,
      "object_fit": null,
      "grid_auto_columns": null,
      "margin": null,
      "display": null,
      "left": null
     }
    },
    "323562d47e9e48d0b445bf651d4e0115": {
     "model_module": "@jupyter-widgets/controls",
     "model_name": "ProgressStyleModel",
     "model_module_version": "1.5.0",
     "state": {
      "_view_name": "StyleView",
      "_model_name": "ProgressStyleModel",
      "description_width": "",
      "_view_module": "@jupyter-widgets/base",
      "_model_module_version": "1.5.0",
      "_view_count": null,
      "_view_module_version": "1.2.0",
      "bar_color": null,
      "_model_module": "@jupyter-widgets/controls"
     }
    },
    "998b30ecf25e4df392e83e0550773338": {
     "model_module": "@jupyter-widgets/base",
     "model_name": "LayoutModel",
     "model_module_version": "1.2.0",
     "state": {
      "_view_name": "LayoutView",
      "grid_template_rows": null,
      "right": null,
      "justify_content": null,
      "_view_module": "@jupyter-widgets/base",
      "overflow": null,
      "_model_module_version": "1.2.0",
      "_view_count": null,
      "flex_flow": null,
      "width": null,
      "min_width": null,
      "border": null,
      "align_items": null,
      "bottom": null,
      "_model_module": "@jupyter-widgets/base",
      "top": null,
      "grid_column": null,
      "overflow_y": null,
      "overflow_x": null,
      "grid_auto_flow": null,
      "grid_area": null,
      "grid_template_columns": null,
      "flex": null,
      "_model_name": "LayoutModel",
      "justify_items": null,
      "grid_row": null,
      "max_height": null,
      "align_content": null,
      "visibility": null,
      "align_self": null,
      "height": null,
      "min_height": null,
      "padding": null,
      "grid_auto_rows": null,
      "grid_gap": null,
      "max_width": null,
      "order": null,
      "_view_module_version": "1.2.0",
      "grid_template_areas": null,
      "object_position": null,
      "object_fit": null,
      "grid_auto_columns": null,
      "margin": null,
      "display": null,
      "left": null
     }
    },
    "80a291350cf543a2b091394e826d3597": {
     "model_module": "@jupyter-widgets/controls",
     "model_name": "DescriptionStyleModel",
     "model_module_version": "1.5.0",
     "state": {
      "_view_name": "StyleView",
      "_model_name": "DescriptionStyleModel",
      "description_width": "",
      "_view_module": "@jupyter-widgets/base",
      "_model_module_version": "1.5.0",
      "_view_count": null,
      "_view_module_version": "1.2.0",
      "_model_module": "@jupyter-widgets/controls"
     }
    },
    "20f07c7442ab49d293c8681f32474127": {
     "model_module": "@jupyter-widgets/base",
     "model_name": "LayoutModel",
     "model_module_version": "1.2.0",
     "state": {
      "_view_name": "LayoutView",
      "grid_template_rows": null,
      "right": null,
      "justify_content": null,
      "_view_module": "@jupyter-widgets/base",
      "overflow": null,
      "_model_module_version": "1.2.0",
      "_view_count": null,
      "flex_flow": null,
      "width": null,
      "min_width": null,
      "border": null,
      "align_items": null,
      "bottom": null,
      "_model_module": "@jupyter-widgets/base",
      "top": null,
      "grid_column": null,
      "overflow_y": null,
      "overflow_x": null,
      "grid_auto_flow": null,
      "grid_area": null,
      "grid_template_columns": null,
      "flex": null,
      "_model_name": "LayoutModel",
      "justify_items": null,
      "grid_row": null,
      "max_height": null,
      "align_content": null,
      "visibility": null,
      "align_self": null,
      "height": null,
      "min_height": null,
      "padding": null,
      "grid_auto_rows": null,
      "grid_gap": null,
      "max_width": null,
      "order": null,
      "_view_module_version": "1.2.0",
      "grid_template_areas": null,
      "object_position": null,
      "object_fit": null,
      "grid_auto_columns": null,
      "margin": null,
      "display": null,
      "left": null
     }
    },
    "e85eba70171a476ca68fbdcd25e3c7d8": {
     "model_module": "@jupyter-widgets/controls",
     "model_name": "HBoxModel",
     "model_module_version": "1.5.0",
     "state": {
      "_view_name": "HBoxView",
      "_dom_classes": [],
      "_model_name": "HBoxModel",
      "_view_module": "@jupyter-widgets/controls",
      "_model_module_version": "1.5.0",
      "_view_count": null,
      "_view_module_version": "1.5.0",
      "box_style": "",
      "layout": "IPY_MODEL_a55855768db94f3a9d3f2de15dc57d83",
      "_model_module": "@jupyter-widgets/controls",
      "children": [
       "IPY_MODEL_401f0b24b10e40f882356068f2425eb8",
       "IPY_MODEL_b24fcf925d5f4f71a72e1fbf1fbcd0d7",
       "IPY_MODEL_fc702fcf524647d788beae7f70f405fd"
      ]
     }
    },
    "a55855768db94f3a9d3f2de15dc57d83": {
     "model_module": "@jupyter-widgets/base",
     "model_name": "LayoutModel",
     "model_module_version": "1.2.0",
     "state": {
      "_view_name": "LayoutView",
      "grid_template_rows": null,
      "right": null,
      "justify_content": null,
      "_view_module": "@jupyter-widgets/base",
      "overflow": null,
      "_model_module_version": "1.2.0",
      "_view_count": null,
      "flex_flow": null,
      "width": null,
      "min_width": null,
      "border": null,
      "align_items": null,
      "bottom": null,
      "_model_module": "@jupyter-widgets/base",
      "top": null,
      "grid_column": null,
      "overflow_y": null,
      "overflow_x": null,
      "grid_auto_flow": null,
      "grid_area": null,
      "grid_template_columns": null,
      "flex": null,
      "_model_name": "LayoutModel",
      "justify_items": null,
      "grid_row": null,
      "max_height": null,
      "align_content": null,
      "visibility": null,
      "align_self": null,
      "height": null,
      "min_height": null,
      "padding": null,
      "grid_auto_rows": null,
      "grid_gap": null,
      "max_width": null,
      "order": null,
      "_view_module_version": "1.2.0",
      "grid_template_areas": null,
      "object_position": null,
      "object_fit": null,
      "grid_auto_columns": null,
      "margin": null,
      "display": null,
      "left": null
     }
    },
    "401f0b24b10e40f882356068f2425eb8": {
     "model_module": "@jupyter-widgets/controls",
     "model_name": "HTMLModel",
     "model_module_version": "1.5.0",
     "state": {
      "_view_name": "HTMLView",
      "style": "IPY_MODEL_f84e9e57d70147609d97995017276bea",
      "_dom_classes": [],
      "description": "",
      "_model_name": "HTMLModel",
      "placeholder": "​",
      "_view_module": "@jupyter-widgets/controls",
      "_model_module_version": "1.5.0",
      "value": "100%",
      "_view_count": null,
      "_view_module_version": "1.5.0",
      "description_tooltip": null,
      "_model_module": "@jupyter-widgets/controls",
      "layout": "IPY_MODEL_e91c553c0121472397d0abfbe0799d6c"
     }
    },
    "b24fcf925d5f4f71a72e1fbf1fbcd0d7": {
     "model_module": "@jupyter-widgets/controls",
     "model_name": "FloatProgressModel",
     "model_module_version": "1.5.0",
     "state": {
      "_view_name": "ProgressView",
      "style": "IPY_MODEL_3d6531cad3fb4aeab7dc60e692581c82",
      "_dom_classes": [],
      "description": "",
      "_model_name": "FloatProgressModel",
      "bar_style": "success",
      "max": 458,
      "_view_module": "@jupyter-widgets/controls",
      "_model_module_version": "1.5.0",
      "value": 458,
      "_view_count": null,
      "_view_module_version": "1.5.0",
      "orientation": "horizontal",
      "min": 0,
      "description_tooltip": null,
      "_model_module": "@jupyter-widgets/controls",
      "layout": "IPY_MODEL_de271e0fceb0484b9efc2d45a975937b"
     }
    },
    "fc702fcf524647d788beae7f70f405fd": {
     "model_module": "@jupyter-widgets/controls",
     "model_name": "HTMLModel",
     "model_module_version": "1.5.0",
     "state": {
      "_view_name": "HTMLView",
      "style": "IPY_MODEL_78531e7c5cef4048a1ace84e0315b36b",
      "_dom_classes": [],
      "description": "",
      "_model_name": "HTMLModel",
      "placeholder": "​",
      "_view_module": "@jupyter-widgets/controls",
      "_model_module_version": "1.5.0",
      "value": " 458/458 [00:00&lt;00:00, 2129.37it/s]",
      "_view_count": null,
      "_view_module_version": "1.5.0",
      "description_tooltip": null,
      "_model_module": "@jupyter-widgets/controls",
      "layout": "IPY_MODEL_712001fdefd744f6b53deaf9ace2abe2"
     }
    },
    "f84e9e57d70147609d97995017276bea": {
     "model_module": "@jupyter-widgets/controls",
     "model_name": "DescriptionStyleModel",
     "model_module_version": "1.5.0",
     "state": {
      "_view_name": "StyleView",
      "_model_name": "DescriptionStyleModel",
      "description_width": "",
      "_view_module": "@jupyter-widgets/base",
      "_model_module_version": "1.5.0",
      "_view_count": null,
      "_view_module_version": "1.2.0",
      "_model_module": "@jupyter-widgets/controls"
     }
    },
    "e91c553c0121472397d0abfbe0799d6c": {
     "model_module": "@jupyter-widgets/base",
     "model_name": "LayoutModel",
     "model_module_version": "1.2.0",
     "state": {
      "_view_name": "LayoutView",
      "grid_template_rows": null,
      "right": null,
      "justify_content": null,
      "_view_module": "@jupyter-widgets/base",
      "overflow": null,
      "_model_module_version": "1.2.0",
      "_view_count": null,
      "flex_flow": null,
      "width": null,
      "min_width": null,
      "border": null,
      "align_items": null,
      "bottom": null,
      "_model_module": "@jupyter-widgets/base",
      "top": null,
      "grid_column": null,
      "overflow_y": null,
      "overflow_x": null,
      "grid_auto_flow": null,
      "grid_area": null,
      "grid_template_columns": null,
      "flex": null,
      "_model_name": "LayoutModel",
      "justify_items": null,
      "grid_row": null,
      "max_height": null,
      "align_content": null,
      "visibility": null,
      "align_self": null,
      "height": null,
      "min_height": null,
      "padding": null,
      "grid_auto_rows": null,
      "grid_gap": null,
      "max_width": null,
      "order": null,
      "_view_module_version": "1.2.0",
      "grid_template_areas": null,
      "object_position": null,
      "object_fit": null,
      "grid_auto_columns": null,
      "margin": null,
      "display": null,
      "left": null
     }
    },
    "3d6531cad3fb4aeab7dc60e692581c82": {
     "model_module": "@jupyter-widgets/controls",
     "model_name": "ProgressStyleModel",
     "model_module_version": "1.5.0",
     "state": {
      "_view_name": "StyleView",
      "_model_name": "ProgressStyleModel",
      "description_width": "",
      "_view_module": "@jupyter-widgets/base",
      "_model_module_version": "1.5.0",
      "_view_count": null,
      "_view_module_version": "1.2.0",
      "bar_color": null,
      "_model_module": "@jupyter-widgets/controls"
     }
    },
    "de271e0fceb0484b9efc2d45a975937b": {
     "model_module": "@jupyter-widgets/base",
     "model_name": "LayoutModel",
     "model_module_version": "1.2.0",
     "state": {
      "_view_name": "LayoutView",
      "grid_template_rows": null,
      "right": null,
      "justify_content": null,
      "_view_module": "@jupyter-widgets/base",
      "overflow": null,
      "_model_module_version": "1.2.0",
      "_view_count": null,
      "flex_flow": null,
      "width": null,
      "min_width": null,
      "border": null,
      "align_items": null,
      "bottom": null,
      "_model_module": "@jupyter-widgets/base",
      "top": null,
      "grid_column": null,
      "overflow_y": null,
      "overflow_x": null,
      "grid_auto_flow": null,
      "grid_area": null,
      "grid_template_columns": null,
      "flex": null,
      "_model_name": "LayoutModel",
      "justify_items": null,
      "grid_row": null,
      "max_height": null,
      "align_content": null,
      "visibility": null,
      "align_self": null,
      "height": null,
      "min_height": null,
      "padding": null,
      "grid_auto_rows": null,
      "grid_gap": null,
      "max_width": null,
      "order": null,
      "_view_module_version": "1.2.0",
      "grid_template_areas": null,
      "object_position": null,
      "object_fit": null,
      "grid_auto_columns": null,
      "margin": null,
      "display": null,
      "left": null
     }
    },
    "78531e7c5cef4048a1ace84e0315b36b": {
     "model_module": "@jupyter-widgets/controls",
     "model_name": "DescriptionStyleModel",
     "model_module_version": "1.5.0",
     "state": {
      "_view_name": "StyleView",
      "_model_name": "DescriptionStyleModel",
      "description_width": "",
      "_view_module": "@jupyter-widgets/base",
      "_model_module_version": "1.5.0",
      "_view_count": null,
      "_view_module_version": "1.2.0",
      "_model_module": "@jupyter-widgets/controls"
     }
    },
    "712001fdefd744f6b53deaf9ace2abe2": {
     "model_module": "@jupyter-widgets/base",
     "model_name": "LayoutModel",
     "model_module_version": "1.2.0",
     "state": {
      "_view_name": "LayoutView",
      "grid_template_rows": null,
      "right": null,
      "justify_content": null,
      "_view_module": "@jupyter-widgets/base",
      "overflow": null,
      "_model_module_version": "1.2.0",
      "_view_count": null,
      "flex_flow": null,
      "width": null,
      "min_width": null,
      "border": null,
      "align_items": null,
      "bottom": null,
      "_model_module": "@jupyter-widgets/base",
      "top": null,
      "grid_column": null,
      "overflow_y": null,
      "overflow_x": null,
      "grid_auto_flow": null,
      "grid_area": null,
      "grid_template_columns": null,
      "flex": null,
      "_model_name": "LayoutModel",
      "justify_items": null,
      "grid_row": null,
      "max_height": null,
      "align_content": null,
      "visibility": null,
      "align_self": null,
      "height": null,
      "min_height": null,
      "padding": null,
      "grid_auto_rows": null,
      "grid_gap": null,
      "max_width": null,
      "order": null,
      "_view_module_version": "1.2.0",
      "grid_template_areas": null,
      "object_position": null,
      "object_fit": null,
      "grid_auto_columns": null,
      "margin": null,
      "display": null,
      "left": null
     }
    },
    "4f546059b5804d95a369ddee9c209e33": {
     "model_module": "@jupyter-widgets/controls",
     "model_name": "HBoxModel",
     "model_module_version": "1.5.0",
     "state": {
      "_view_name": "HBoxView",
      "_dom_classes": [],
      "_model_name": "HBoxModel",
      "_view_module": "@jupyter-widgets/controls",
      "_model_module_version": "1.5.0",
      "_view_count": null,
      "_view_module_version": "1.5.0",
      "box_style": "",
      "layout": "IPY_MODEL_98c9490728d048b79ee6f3542acb6c80",
      "_model_module": "@jupyter-widgets/controls",
      "children": [
       "IPY_MODEL_9b816231b16a42a68844ad8ea0bd5f7a",
       "IPY_MODEL_c3f8a35b248242a2bd36db4beee57c0e",
       "IPY_MODEL_d86ebc5923634b0aa7edcccb0832e40f"
      ]
     }
    },
    "98c9490728d048b79ee6f3542acb6c80": {
     "model_module": "@jupyter-widgets/base",
     "model_name": "LayoutModel",
     "model_module_version": "1.2.0",
     "state": {
      "_view_name": "LayoutView",
      "grid_template_rows": null,
      "right": null,
      "justify_content": null,
      "_view_module": "@jupyter-widgets/base",
      "overflow": null,
      "_model_module_version": "1.2.0",
      "_view_count": null,
      "flex_flow": null,
      "width": null,
      "min_width": null,
      "border": null,
      "align_items": null,
      "bottom": null,
      "_model_module": "@jupyter-widgets/base",
      "top": null,
      "grid_column": null,
      "overflow_y": null,
      "overflow_x": null,
      "grid_auto_flow": null,
      "grid_area": null,
      "grid_template_columns": null,
      "flex": null,
      "_model_name": "LayoutModel",
      "justify_items": null,
      "grid_row": null,
      "max_height": null,
      "align_content": null,
      "visibility": null,
      "align_self": null,
      "height": null,
      "min_height": null,
      "padding": null,
      "grid_auto_rows": null,
      "grid_gap": null,
      "max_width": null,
      "order": null,
      "_view_module_version": "1.2.0",
      "grid_template_areas": null,
      "object_position": null,
      "object_fit": null,
      "grid_auto_columns": null,
      "margin": null,
      "display": null,
      "left": null
     }
    },
    "9b816231b16a42a68844ad8ea0bd5f7a": {
     "model_module": "@jupyter-widgets/controls",
     "model_name": "HTMLModel",
     "model_module_version": "1.5.0",
     "state": {
      "_view_name": "HTMLView",
      "style": "IPY_MODEL_269a2242faf0418db624f6b0e785cd85",
      "_dom_classes": [],
      "description": "",
      "_model_name": "HTMLModel",
      "placeholder": "​",
      "_view_module": "@jupyter-widgets/controls",
      "_model_module_version": "1.5.0",
      "value": "100%",
      "_view_count": null,
      "_view_module_version": "1.5.0",
      "description_tooltip": null,
      "_model_module": "@jupyter-widgets/controls",
      "layout": "IPY_MODEL_e4b1db71b9e4404abdfb07e859e6e9ee"
     }
    },
    "c3f8a35b248242a2bd36db4beee57c0e": {
     "model_module": "@jupyter-widgets/controls",
     "model_name": "FloatProgressModel",
     "model_module_version": "1.5.0",
     "state": {
      "_view_name": "ProgressView",
      "style": "IPY_MODEL_60197983d1eb4baeadc16b720e0b0a67",
      "_dom_classes": [],
      "description": "",
      "_model_name": "FloatProgressModel",
      "bar_style": "success",
      "max": 277,
      "_view_module": "@jupyter-widgets/controls",
      "_model_module_version": "1.5.0",
      "value": 277,
      "_view_count": null,
      "_view_module_version": "1.5.0",
      "orientation": "horizontal",
      "min": 0,
      "description_tooltip": null,
      "_model_module": "@jupyter-widgets/controls",
      "layout": "IPY_MODEL_82b4f21788414c1ebace67ccd1e6b148"
     }
    },
    "d86ebc5923634b0aa7edcccb0832e40f": {
     "model_module": "@jupyter-widgets/controls",
     "model_name": "HTMLModel",
     "model_module_version": "1.5.0",
     "state": {
      "_view_name": "HTMLView",
      "style": "IPY_MODEL_88f4dd473a5e4279b7ef9bf4cf23ec21",
      "_dom_classes": [],
      "description": "",
      "_model_name": "HTMLModel",
      "placeholder": "​",
      "_view_module": "@jupyter-widgets/controls",
      "_model_module_version": "1.5.0",
      "value": " 277/277 [00:09&lt;00:00, 45.54it/s]",
      "_view_count": null,
      "_view_module_version": "1.5.0",
      "description_tooltip": null,
      "_model_module": "@jupyter-widgets/controls",
      "layout": "IPY_MODEL_1fb87285b6ec4f0bb6b50a5e4c4c0456"
     }
    },
    "269a2242faf0418db624f6b0e785cd85": {
     "model_module": "@jupyter-widgets/controls",
     "model_name": "DescriptionStyleModel",
     "model_module_version": "1.5.0",
     "state": {
      "_view_name": "StyleView",
      "_model_name": "DescriptionStyleModel",
      "description_width": "",
      "_view_module": "@jupyter-widgets/base",
      "_model_module_version": "1.5.0",
      "_view_count": null,
      "_view_module_version": "1.2.0",
      "_model_module": "@jupyter-widgets/controls"
     }
    },
    "e4b1db71b9e4404abdfb07e859e6e9ee": {
     "model_module": "@jupyter-widgets/base",
     "model_name": "LayoutModel",
     "model_module_version": "1.2.0",
     "state": {
      "_view_name": "LayoutView",
      "grid_template_rows": null,
      "right": null,
      "justify_content": null,
      "_view_module": "@jupyter-widgets/base",
      "overflow": null,
      "_model_module_version": "1.2.0",
      "_view_count": null,
      "flex_flow": null,
      "width": null,
      "min_width": null,
      "border": null,
      "align_items": null,
      "bottom": null,
      "_model_module": "@jupyter-widgets/base",
      "top": null,
      "grid_column": null,
      "overflow_y": null,
      "overflow_x": null,
      "grid_auto_flow": null,
      "grid_area": null,
      "grid_template_columns": null,
      "flex": null,
      "_model_name": "LayoutModel",
      "justify_items": null,
      "grid_row": null,
      "max_height": null,
      "align_content": null,
      "visibility": null,
      "align_self": null,
      "height": null,
      "min_height": null,
      "padding": null,
      "grid_auto_rows": null,
      "grid_gap": null,
      "max_width": null,
      "order": null,
      "_view_module_version": "1.2.0",
      "grid_template_areas": null,
      "object_position": null,
      "object_fit": null,
      "grid_auto_columns": null,
      "margin": null,
      "display": null,
      "left": null
     }
    },
    "60197983d1eb4baeadc16b720e0b0a67": {
     "model_module": "@jupyter-widgets/controls",
     "model_name": "ProgressStyleModel",
     "model_module_version": "1.5.0",
     "state": {
      "_view_name": "StyleView",
      "_model_name": "ProgressStyleModel",
      "description_width": "",
      "_view_module": "@jupyter-widgets/base",
      "_model_module_version": "1.5.0",
      "_view_count": null,
      "_view_module_version": "1.2.0",
      "bar_color": null,
      "_model_module": "@jupyter-widgets/controls"
     }
    },
    "82b4f21788414c1ebace67ccd1e6b148": {
     "model_module": "@jupyter-widgets/base",
     "model_name": "LayoutModel",
     "model_module_version": "1.2.0",
     "state": {
      "_view_name": "LayoutView",
      "grid_template_rows": null,
      "right": null,
      "justify_content": null,
      "_view_module": "@jupyter-widgets/base",
      "overflow": null,
      "_model_module_version": "1.2.0",
      "_view_count": null,
      "flex_flow": null,
      "width": null,
      "min_width": null,
      "border": null,
      "align_items": null,
      "bottom": null,
      "_model_module": "@jupyter-widgets/base",
      "top": null,
      "grid_column": null,
      "overflow_y": null,
      "overflow_x": null,
      "grid_auto_flow": null,
      "grid_area": null,
      "grid_template_columns": null,
      "flex": null,
      "_model_name": "LayoutModel",
      "justify_items": null,
      "grid_row": null,
      "max_height": null,
      "align_content": null,
      "visibility": null,
      "align_self": null,
      "height": null,
      "min_height": null,
      "padding": null,
      "grid_auto_rows": null,
      "grid_gap": null,
      "max_width": null,
      "order": null,
      "_view_module_version": "1.2.0",
      "grid_template_areas": null,
      "object_position": null,
      "object_fit": null,
      "grid_auto_columns": null,
      "margin": null,
      "display": null,
      "left": null
     }
    },
    "88f4dd473a5e4279b7ef9bf4cf23ec21": {
     "model_module": "@jupyter-widgets/controls",
     "model_name": "DescriptionStyleModel",
     "model_module_version": "1.5.0",
     "state": {
      "_view_name": "StyleView",
      "_model_name": "DescriptionStyleModel",
      "description_width": "",
      "_view_module": "@jupyter-widgets/base",
      "_model_module_version": "1.5.0",
      "_view_count": null,
      "_view_module_version": "1.2.0",
      "_model_module": "@jupyter-widgets/controls"
     }
    },
    "1fb87285b6ec4f0bb6b50a5e4c4c0456": {
     "model_module": "@jupyter-widgets/base",
     "model_name": "LayoutModel",
     "model_module_version": "1.2.0",
     "state": {
      "_view_name": "LayoutView",
      "grid_template_rows": null,
      "right": null,
      "justify_content": null,
      "_view_module": "@jupyter-widgets/base",
      "overflow": null,
      "_model_module_version": "1.2.0",
      "_view_count": null,
      "flex_flow": null,
      "width": null,
      "min_width": null,
      "border": null,
      "align_items": null,
      "bottom": null,
      "_model_module": "@jupyter-widgets/base",
      "top": null,
      "grid_column": null,
      "overflow_y": null,
      "overflow_x": null,
      "grid_auto_flow": null,
      "grid_area": null,
      "grid_template_columns": null,
      "flex": null,
      "_model_name": "LayoutModel",
      "justify_items": null,
      "grid_row": null,
      "max_height": null,
      "align_content": null,
      "visibility": null,
      "align_self": null,
      "height": null,
      "min_height": null,
      "padding": null,
      "grid_auto_rows": null,
      "grid_gap": null,
      "max_width": null,
      "order": null,
      "_view_module_version": "1.2.0",
      "grid_template_areas": null,
      "object_position": null,
      "object_fit": null,
      "grid_auto_columns": null,
      "margin": null,
      "display": null,
      "left": null
     }
    },
    "d6b3e782e2e04ead930e3fe42f0695b8": {
     "model_module": "@jupyter-widgets/controls",
     "model_name": "HBoxModel",
     "model_module_version": "1.5.0",
     "state": {
      "_view_name": "HBoxView",
      "_dom_classes": [],
      "_model_name": "HBoxModel",
      "_view_module": "@jupyter-widgets/controls",
      "_model_module_version": "1.5.0",
      "_view_count": null,
      "_view_module_version": "1.5.0",
      "box_style": "",
      "layout": "IPY_MODEL_c9e72c58460f48899863a572f7f966b4",
      "_model_module": "@jupyter-widgets/controls",
      "children": [
       "IPY_MODEL_3af0e4ff4d5b45bcaa041492beb92542",
       "IPY_MODEL_5ac4ee6bc39e4e5ba1e54daa990326b2",
       "IPY_MODEL_b93e977b4904457888596b0be7d12047"
      ]
     }
    },
    "c9e72c58460f48899863a572f7f966b4": {
     "model_module": "@jupyter-widgets/base",
     "model_name": "LayoutModel",
     "model_module_version": "1.2.0",
     "state": {
      "_view_name": "LayoutView",
      "grid_template_rows": null,
      "right": null,
      "justify_content": null,
      "_view_module": "@jupyter-widgets/base",
      "overflow": null,
      "_model_module_version": "1.2.0",
      "_view_count": null,
      "flex_flow": null,
      "width": null,
      "min_width": null,
      "border": null,
      "align_items": null,
      "bottom": null,
      "_model_module": "@jupyter-widgets/base",
      "top": null,
      "grid_column": null,
      "overflow_y": null,
      "overflow_x": null,
      "grid_auto_flow": null,
      "grid_area": null,
      "grid_template_columns": null,
      "flex": null,
      "_model_name": "LayoutModel",
      "justify_items": null,
      "grid_row": null,
      "max_height": null,
      "align_content": null,
      "visibility": null,
      "align_self": null,
      "height": null,
      "min_height": null,
      "padding": null,
      "grid_auto_rows": null,
      "grid_gap": null,
      "max_width": null,
      "order": null,
      "_view_module_version": "1.2.0",
      "grid_template_areas": null,
      "object_position": null,
      "object_fit": null,
      "grid_auto_columns": null,
      "margin": null,
      "display": null,
      "left": null
     }
    },
    "3af0e4ff4d5b45bcaa041492beb92542": {
     "model_module": "@jupyter-widgets/controls",
     "model_name": "HTMLModel",
     "model_module_version": "1.5.0",
     "state": {
      "_view_name": "HTMLView",
      "style": "IPY_MODEL_1f0f1ecd695c4b2b8160ad1172b6795a",
      "_dom_classes": [],
      "description": "",
      "_model_name": "HTMLModel",
      "placeholder": "​",
      "_view_module": "@jupyter-widgets/controls",
      "_model_module_version": "1.5.0",
      "value": "Map Progress Bar: 100%",
      "_view_count": null,
      "_view_module_version": "1.5.0",
      "description_tooltip": null,
      "_model_module": "@jupyter-widgets/controls",
      "layout": "IPY_MODEL_c26534fb32db464a9357a245999c4f68"
     }
    },
    "5ac4ee6bc39e4e5ba1e54daa990326b2": {
     "model_module": "@jupyter-widgets/controls",
     "model_name": "FloatProgressModel",
     "model_module_version": "1.5.0",
     "state": {
      "_view_name": "ProgressView",
      "style": "IPY_MODEL_1e08bcb5da924636b7f589a55cc6ec32",
      "_dom_classes": [],
      "description": "",
      "_model_name": "FloatProgressModel",
      "bar_style": "success",
      "max": 319,
      "_view_module": "@jupyter-widgets/controls",
      "_model_module_version": "1.5.0",
      "value": 319,
      "_view_count": null,
      "_view_module_version": "1.5.0",
      "orientation": "horizontal",
      "min": 0,
      "description_tooltip": null,
      "_model_module": "@jupyter-widgets/controls",
      "layout": "IPY_MODEL_b6b50eb4e1c1442c8d371e87afdcd483"
     }
    },
    "b93e977b4904457888596b0be7d12047": {
     "model_module": "@jupyter-widgets/controls",
     "model_name": "HTMLModel",
     "model_module_version": "1.5.0",
     "state": {
      "_view_name": "HTMLView",
      "style": "IPY_MODEL_94dc8210673b4d59aa5ed357465e22b2",
      "_dom_classes": [],
      "description": "",
      "_model_name": "HTMLModel",
      "placeholder": "​",
      "_view_module": "@jupyter-widgets/controls",
      "_model_module_version": "1.5.0",
      "value": " 319/319 [03:48&lt;00:00, 134.64it/s]",
      "_view_count": null,
      "_view_module_version": "1.5.0",
      "description_tooltip": null,
      "_model_module": "@jupyter-widgets/controls",
      "layout": "IPY_MODEL_1c769b83fcde4f65ac2d9af470795e0a"
     }
    },
    "1f0f1ecd695c4b2b8160ad1172b6795a": {
     "model_module": "@jupyter-widgets/controls",
     "model_name": "DescriptionStyleModel",
     "model_module_version": "1.5.0",
     "state": {
      "_view_name": "StyleView",
      "_model_name": "DescriptionStyleModel",
      "description_width": "",
      "_view_module": "@jupyter-widgets/base",
      "_model_module_version": "1.5.0",
      "_view_count": null,
      "_view_module_version": "1.2.0",
      "_model_module": "@jupyter-widgets/controls"
     }
    },
    "c26534fb32db464a9357a245999c4f68": {
     "model_module": "@jupyter-widgets/base",
     "model_name": "LayoutModel",
     "model_module_version": "1.2.0",
     "state": {
      "_view_name": "LayoutView",
      "grid_template_rows": null,
      "right": null,
      "justify_content": null,
      "_view_module": "@jupyter-widgets/base",
      "overflow": null,
      "_model_module_version": "1.2.0",
      "_view_count": null,
      "flex_flow": null,
      "width": null,
      "min_width": null,
      "border": null,
      "align_items": null,
      "bottom": null,
      "_model_module": "@jupyter-widgets/base",
      "top": null,
      "grid_column": null,
      "overflow_y": null,
      "overflow_x": null,
      "grid_auto_flow": null,
      "grid_area": null,
      "grid_template_columns": null,
      "flex": null,
      "_model_name": "LayoutModel",
      "justify_items": null,
      "grid_row": null,
      "max_height": null,
      "align_content": null,
      "visibility": null,
      "align_self": null,
      "height": null,
      "min_height": null,
      "padding": null,
      "grid_auto_rows": null,
      "grid_gap": null,
      "max_width": null,
      "order": null,
      "_view_module_version": "1.2.0",
      "grid_template_areas": null,
      "object_position": null,
      "object_fit": null,
      "grid_auto_columns": null,
      "margin": null,
      "display": null,
      "left": null
     }
    },
    "1e08bcb5da924636b7f589a55cc6ec32": {
     "model_module": "@jupyter-widgets/controls",
     "model_name": "ProgressStyleModel",
     "model_module_version": "1.5.0",
     "state": {
      "_view_name": "StyleView",
      "_model_name": "ProgressStyleModel",
      "description_width": "",
      "_view_module": "@jupyter-widgets/base",
      "_model_module_version": "1.5.0",
      "_view_count": null,
      "_view_module_version": "1.2.0",
      "bar_color": null,
      "_model_module": "@jupyter-widgets/controls"
     }
    },
    "b6b50eb4e1c1442c8d371e87afdcd483": {
     "model_module": "@jupyter-widgets/base",
     "model_name": "LayoutModel",
     "model_module_version": "1.2.0",
     "state": {
      "_view_name": "LayoutView",
      "grid_template_rows": null,
      "right": null,
      "justify_content": null,
      "_view_module": "@jupyter-widgets/base",
      "overflow": null,
      "_model_module_version": "1.2.0",
      "_view_count": null,
      "flex_flow": null,
      "width": null,
      "min_width": null,
      "border": null,
      "align_items": null,
      "bottom": null,
      "_model_module": "@jupyter-widgets/base",
      "top": null,
      "grid_column": null,
      "overflow_y": null,
      "overflow_x": null,
      "grid_auto_flow": null,
      "grid_area": null,
      "grid_template_columns": null,
      "flex": null,
      "_model_name": "LayoutModel",
      "justify_items": null,
      "grid_row": null,
      "max_height": null,
      "align_content": null,
      "visibility": null,
      "align_self": null,
      "height": null,
      "min_height": null,
      "padding": null,
      "grid_auto_rows": null,
      "grid_gap": null,
      "max_width": null,
      "order": null,
      "_view_module_version": "1.2.0",
      "grid_template_areas": null,
      "object_position": null,
      "object_fit": null,
      "grid_auto_columns": null,
      "margin": null,
      "display": null,
      "left": null
     }
    },
    "94dc8210673b4d59aa5ed357465e22b2": {
     "model_module": "@jupyter-widgets/controls",
     "model_name": "DescriptionStyleModel",
     "model_module_version": "1.5.0",
     "state": {
      "_view_name": "StyleView",
      "_model_name": "DescriptionStyleModel",
      "description_width": "",
      "_view_module": "@jupyter-widgets/base",
      "_model_module_version": "1.5.0",
      "_view_count": null,
      "_view_module_version": "1.2.0",
      "_model_module": "@jupyter-widgets/controls"
     }
    },
    "1c769b83fcde4f65ac2d9af470795e0a": {
     "model_module": "@jupyter-widgets/base",
     "model_name": "LayoutModel",
     "model_module_version": "1.2.0",
     "state": {
      "_view_name": "LayoutView",
      "grid_template_rows": null,
      "right": null,
      "justify_content": null,
      "_view_module": "@jupyter-widgets/base",
      "overflow": null,
      "_model_module_version": "1.2.0",
      "_view_count": null,
      "flex_flow": null,
      "width": null,
      "min_width": null,
      "border": null,
      "align_items": null,
      "bottom": null,
      "_model_module": "@jupyter-widgets/base",
      "top": null,
      "grid_column": null,
      "overflow_y": null,
      "overflow_x": null,
      "grid_auto_flow": null,
      "grid_area": null,
      "grid_template_columns": null,
      "flex": null,
      "_model_name": "LayoutModel",
      "justify_items": null,
      "grid_row": null,
      "max_height": null,
      "align_content": null,
      "visibility": null,
      "align_self": null,
      "height": null,
      "min_height": null,
      "padding": null,
      "grid_auto_rows": null,
      "grid_gap": null,
      "max_width": null,
      "order": null,
      "_view_module_version": "1.2.0",
      "grid_template_areas": null,
      "object_position": null,
      "object_fit": null,
      "grid_auto_columns": null,
      "margin": null,
      "display": null,
      "left": null
     }
    },
    "38f2f87253d746019717849c85db6840": {
     "model_module": "@jupyter-widgets/controls",
     "model_name": "HBoxModel",
     "model_module_version": "1.5.0",
     "state": {
      "_view_name": "HBoxView",
      "_dom_classes": [],
      "_model_name": "HBoxModel",
      "_view_module": "@jupyter-widgets/controls",
      "_model_module_version": "1.5.0",
      "_view_count": null,
      "_view_module_version": "1.5.0",
      "box_style": "",
      "layout": "IPY_MODEL_2baf9f6dd54242a3ad7e895a0d713d40",
      "_model_module": "@jupyter-widgets/controls",
      "children": [
       "IPY_MODEL_faa59b054dc74bdbb08e19959684652e",
       "IPY_MODEL_ac80fa9e387c4af0a6b4a2d64385d0dd",
       "IPY_MODEL_4a8b4faf7726406a84cc9e743c37e43a"
      ]
     }
    },
    "2baf9f6dd54242a3ad7e895a0d713d40": {
     "model_module": "@jupyter-widgets/base",
     "model_name": "LayoutModel",
     "model_module_version": "1.2.0",
     "state": {
      "_view_name": "LayoutView",
      "grid_template_rows": null,
      "right": null,
      "justify_content": null,
      "_view_module": "@jupyter-widgets/base",
      "overflow": null,
      "_model_module_version": "1.2.0",
      "_view_count": null,
      "flex_flow": null,
      "width": null,
      "min_width": null,
      "border": null,
      "align_items": null,
      "bottom": null,
      "_model_module": "@jupyter-widgets/base",
      "top": null,
      "grid_column": null,
      "overflow_y": null,
      "overflow_x": null,
      "grid_auto_flow": null,
      "grid_area": null,
      "grid_template_columns": null,
      "flex": null,
      "_model_name": "LayoutModel",
      "justify_items": null,
      "grid_row": null,
      "max_height": null,
      "align_content": null,
      "visibility": null,
      "align_self": null,
      "height": null,
      "min_height": null,
      "padding": null,
      "grid_auto_rows": null,
      "grid_gap": null,
      "max_width": null,
      "order": null,
      "_view_module_version": "1.2.0",
      "grid_template_areas": null,
      "object_position": null,
      "object_fit": null,
      "grid_auto_columns": null,
      "margin": null,
      "display": null,
      "left": null
     }
    },
    "faa59b054dc74bdbb08e19959684652e": {
     "model_module": "@jupyter-widgets/controls",
     "model_name": "HTMLModel",
     "model_module_version": "1.5.0",
     "state": {
      "_view_name": "HTMLView",
      "style": "IPY_MODEL_d9e81e4bb5f44f1b87145ac9bda7d165",
      "_dom_classes": [],
      "description": "",
      "_model_name": "HTMLModel",
      "placeholder": "​",
      "_view_module": "@jupyter-widgets/controls",
      "_model_module_version": "1.5.0",
      "value": "Reduce Progress Bar: 100%",
      "_view_count": null,
      "_view_module_version": "1.5.0",
      "description_tooltip": null,
      "_model_module": "@jupyter-widgets/controls",
      "layout": "IPY_MODEL_372e326ac1314db5a79da6f123194b1c"
     }
    },
    "ac80fa9e387c4af0a6b4a2d64385d0dd": {
     "model_module": "@jupyter-widgets/controls",
     "model_name": "FloatProgressModel",
     "model_module_version": "1.5.0",
     "state": {
      "_view_name": "ProgressView",
      "style": "IPY_MODEL_30d492d51d104f8ca690e6736eb68116",
      "_dom_classes": [],
      "description": "",
      "_model_name": "FloatProgressModel",
      "bar_style": "success",
      "max": 24,
      "_view_module": "@jupyter-widgets/controls",
      "_model_module_version": "1.5.0",
      "value": 24,
      "_view_count": null,
      "_view_module_version": "1.5.0",
      "orientation": "horizontal",
      "min": 0,
      "description_tooltip": null,
      "_model_module": "@jupyter-widgets/controls",
      "layout": "IPY_MODEL_efd3962559dc438482e514fc476556af"
     }
    },
    "4a8b4faf7726406a84cc9e743c37e43a": {
     "model_module": "@jupyter-widgets/controls",
     "model_name": "HTMLModel",
     "model_module_version": "1.5.0",
     "state": {
      "_view_name": "HTMLView",
      "style": "IPY_MODEL_5eb3ddb0ace6471aaebbc4d92a9cfa97",
      "_dom_classes": [],
      "description": "",
      "_model_name": "HTMLModel",
      "placeholder": "​",
      "_view_module": "@jupyter-widgets/controls",
      "_model_module_version": "1.5.0",
      "value": " 24/24 [00:02&lt;00:00, 13.16it/s]",
      "_view_count": null,
      "_view_module_version": "1.5.0",
      "description_tooltip": null,
      "_model_module": "@jupyter-widgets/controls",
      "layout": "IPY_MODEL_15e4e166580b4a01863af884f5134fa8"
     }
    },
    "d9e81e4bb5f44f1b87145ac9bda7d165": {
     "model_module": "@jupyter-widgets/controls",
     "model_name": "DescriptionStyleModel",
     "model_module_version": "1.5.0",
     "state": {
      "_view_name": "StyleView",
      "_model_name": "DescriptionStyleModel",
      "description_width": "",
      "_view_module": "@jupyter-widgets/base",
      "_model_module_version": "1.5.0",
      "_view_count": null,
      "_view_module_version": "1.2.0",
      "_model_module": "@jupyter-widgets/controls"
     }
    },
    "372e326ac1314db5a79da6f123194b1c": {
     "model_module": "@jupyter-widgets/base",
     "model_name": "LayoutModel",
     "model_module_version": "1.2.0",
     "state": {
      "_view_name": "LayoutView",
      "grid_template_rows": null,
      "right": null,
      "justify_content": null,
      "_view_module": "@jupyter-widgets/base",
      "overflow": null,
      "_model_module_version": "1.2.0",
      "_view_count": null,
      "flex_flow": null,
      "width": null,
      "min_width": null,
      "border": null,
      "align_items": null,
      "bottom": null,
      "_model_module": "@jupyter-widgets/base",
      "top": null,
      "grid_column": null,
      "overflow_y": null,
      "overflow_x": null,
      "grid_auto_flow": null,
      "grid_area": null,
      "grid_template_columns": null,
      "flex": null,
      "_model_name": "LayoutModel",
      "justify_items": null,
      "grid_row": null,
      "max_height": null,
      "align_content": null,
      "visibility": null,
      "align_self": null,
      "height": null,
      "min_height": null,
      "padding": null,
      "grid_auto_rows": null,
      "grid_gap": null,
      "max_width": null,
      "order": null,
      "_view_module_version": "1.2.0",
      "grid_template_areas": null,
      "object_position": null,
      "object_fit": null,
      "grid_auto_columns": null,
      "margin": null,
      "display": null,
      "left": null
     }
    },
    "30d492d51d104f8ca690e6736eb68116": {
     "model_module": "@jupyter-widgets/controls",
     "model_name": "ProgressStyleModel",
     "model_module_version": "1.5.0",
     "state": {
      "_view_name": "StyleView",
      "_model_name": "ProgressStyleModel",
      "description_width": "",
      "_view_module": "@jupyter-widgets/base",
      "_model_module_version": "1.5.0",
      "_view_count": null,
      "_view_module_version": "1.2.0",
      "bar_color": null,
      "_model_module": "@jupyter-widgets/controls"
     }
    },
    "efd3962559dc438482e514fc476556af": {
     "model_module": "@jupyter-widgets/base",
     "model_name": "LayoutModel",
     "model_module_version": "1.2.0",
     "state": {
      "_view_name": "LayoutView",
      "grid_template_rows": null,
      "right": null,
      "justify_content": null,
      "_view_module": "@jupyter-widgets/base",
      "overflow": null,
      "_model_module_version": "1.2.0",
      "_view_count": null,
      "flex_flow": null,
      "width": null,
      "min_width": null,
      "border": null,
      "align_items": null,
      "bottom": null,
      "_model_module": "@jupyter-widgets/base",
      "top": null,
      "grid_column": null,
      "overflow_y": null,
      "overflow_x": null,
      "grid_auto_flow": null,
      "grid_area": null,
      "grid_template_columns": null,
      "flex": null,
      "_model_name": "LayoutModel",
      "justify_items": null,
      "grid_row": null,
      "max_height": null,
      "align_content": null,
      "visibility": null,
      "align_self": null,
      "height": null,
      "min_height": null,
      "padding": null,
      "grid_auto_rows": null,
      "grid_gap": null,
      "max_width": null,
      "order": null,
      "_view_module_version": "1.2.0",
      "grid_template_areas": null,
      "object_position": null,
      "object_fit": null,
      "grid_auto_columns": null,
      "margin": null,
      "display": null,
      "left": null
     }
    },
    "5eb3ddb0ace6471aaebbc4d92a9cfa97": {
     "model_module": "@jupyter-widgets/controls",
     "model_name": "DescriptionStyleModel",
     "model_module_version": "1.5.0",
     "state": {
      "_view_name": "StyleView",
      "_model_name": "DescriptionStyleModel",
      "description_width": "",
      "_view_module": "@jupyter-widgets/base",
      "_model_module_version": "1.5.0",
      "_view_count": null,
      "_view_module_version": "1.2.0",
      "_model_module": "@jupyter-widgets/controls"
     }
    },
    "15e4e166580b4a01863af884f5134fa8": {
     "model_module": "@jupyter-widgets/base",
     "model_name": "LayoutModel",
     "model_module_version": "1.2.0",
     "state": {
      "_view_name": "LayoutView",
      "grid_template_rows": null,
      "right": null,
      "justify_content": null,
      "_view_module": "@jupyter-widgets/base",
      "overflow": null,
      "_model_module_version": "1.2.0",
      "_view_count": null,
      "flex_flow": null,
      "width": null,
      "min_width": null,
      "border": null,
      "align_items": null,
      "bottom": null,
      "_model_module": "@jupyter-widgets/base",
      "top": null,
      "grid_column": null,
      "overflow_y": null,
      "overflow_x": null,
      "grid_auto_flow": null,
      "grid_area": null,
      "grid_template_columns": null,
      "flex": null,
      "_model_name": "LayoutModel",
      "justify_items": null,
      "grid_row": null,
      "max_height": null,
      "align_content": null,
      "visibility": null,
      "align_self": null,
      "height": null,
      "min_height": null,
      "padding": null,
      "grid_auto_rows": null,
      "grid_gap": null,
      "max_width": null,
      "order": null,
      "_view_module_version": "1.2.0",
      "grid_template_areas": null,
      "object_position": null,
      "object_fit": null,
      "grid_auto_columns": null,
      "margin": null,
      "display": null,
      "left": null
     }
    },
    "e7633e34717d4493b5b79b56a877ed1c": {
     "model_module": "@jupyter-widgets/controls",
     "model_name": "HBoxModel",
     "model_module_version": "1.5.0",
     "state": {
      "_view_name": "HBoxView",
      "_dom_classes": [],
      "_model_name": "HBoxModel",
      "_view_module": "@jupyter-widgets/controls",
      "_model_module_version": "1.5.0",
      "_view_count": null,
      "_view_module_version": "1.5.0",
      "box_style": "",
      "layout": "IPY_MODEL_bd6a7705cd8d4101b09128271004f796",
      "_model_module": "@jupyter-widgets/controls",
      "children": [
       "IPY_MODEL_8ecec99945bb47b9b462d18977be2ae8",
       "IPY_MODEL_ec5935545d544161957768eed62146f6",
       "IPY_MODEL_c7fe81fe8d75488e88656ce818543432"
      ]
     }
    },
    "bd6a7705cd8d4101b09128271004f796": {
     "model_module": "@jupyter-widgets/base",
     "model_name": "LayoutModel",
     "model_module_version": "1.2.0",
     "state": {
      "_view_name": "LayoutView",
      "grid_template_rows": null,
      "right": null,
      "justify_content": null,
      "_view_module": "@jupyter-widgets/base",
      "overflow": null,
      "_model_module_version": "1.2.0",
      "_view_count": null,
      "flex_flow": null,
      "width": null,
      "min_width": null,
      "border": null,
      "align_items": null,
      "bottom": null,
      "_model_module": "@jupyter-widgets/base",
      "top": null,
      "grid_column": null,
      "overflow_y": null,
      "overflow_x": null,
      "grid_auto_flow": null,
      "grid_area": null,
      "grid_template_columns": null,
      "flex": null,
      "_model_name": "LayoutModel",
      "justify_items": null,
      "grid_row": null,
      "max_height": null,
      "align_content": null,
      "visibility": null,
      "align_self": null,
      "height": null,
      "min_height": null,
      "padding": null,
      "grid_auto_rows": null,
      "grid_gap": null,
      "max_width": null,
      "order": null,
      "_view_module_version": "1.2.0",
      "grid_template_areas": null,
      "object_position": null,
      "object_fit": null,
      "grid_auto_columns": null,
      "margin": null,
      "display": null,
      "left": null
     }
    },
    "8ecec99945bb47b9b462d18977be2ae8": {
     "model_module": "@jupyter-widgets/controls",
     "model_name": "HTMLModel",
     "model_module_version": "1.5.0",
     "state": {
      "_view_name": "HTMLView",
      "style": "IPY_MODEL_f172474dc58b4c4ba3e08b4cdb361a6f",
      "_dom_classes": [],
      "description": "",
      "_model_name": "HTMLModel",
      "placeholder": "​",
      "_view_module": "@jupyter-widgets/controls",
      "_model_module_version": "1.5.0",
      "value": "Map Progress Bar: 100%",
      "_view_count": null,
      "_view_module_version": "1.5.0",
      "description_tooltip": null,
      "_model_module": "@jupyter-widgets/controls",
      "layout": "IPY_MODEL_b394b798ad3847739fdd768a0185d069"
     }
    },
    "ec5935545d544161957768eed62146f6": {
     "model_module": "@jupyter-widgets/controls",
     "model_name": "FloatProgressModel",
     "model_module_version": "1.5.0",
     "state": {
      "_view_name": "ProgressView",
      "style": "IPY_MODEL_28835a796fcc490e992ca8420fcd9915",
      "_dom_classes": [],
      "description": "",
      "_model_name": "FloatProgressModel",
      "bar_style": "success",
      "max": 500,
      "_view_module": "@jupyter-widgets/controls",
      "_model_module_version": "1.5.0",
      "value": 500,
      "_view_count": null,
      "_view_module_version": "1.5.0",
      "orientation": "horizontal",
      "min": 0,
      "description_tooltip": null,
      "_model_module": "@jupyter-widgets/controls",
      "layout": "IPY_MODEL_66faf8d1ab4341c8af541720181209a5"
     }
    },
    "c7fe81fe8d75488e88656ce818543432": {
     "model_module": "@jupyter-widgets/controls",
     "model_name": "HTMLModel",
     "model_module_version": "1.5.0",
     "state": {
      "_view_name": "HTMLView",
      "style": "IPY_MODEL_d671bc4506cc43c1a96fb9db628135a2",
      "_dom_classes": [],
      "description": "",
      "_model_name": "HTMLModel",
      "placeholder": "​",
      "_view_module": "@jupyter-widgets/controls",
      "_model_module_version": "1.5.0",
      "value": " 500/500 [04:16&lt;00:00, 83.76it/s]",
      "_view_count": null,
      "_view_module_version": "1.5.0",
      "description_tooltip": null,
      "_model_module": "@jupyter-widgets/controls",
      "layout": "IPY_MODEL_08a5011f76ac4e32adb3d8a2c444c93e"
     }
    },
    "f172474dc58b4c4ba3e08b4cdb361a6f": {
     "model_module": "@jupyter-widgets/controls",
     "model_name": "DescriptionStyleModel",
     "model_module_version": "1.5.0",
     "state": {
      "_view_name": "StyleView",
      "_model_name": "DescriptionStyleModel",
      "description_width": "",
      "_view_module": "@jupyter-widgets/base",
      "_model_module_version": "1.5.0",
      "_view_count": null,
      "_view_module_version": "1.2.0",
      "_model_module": "@jupyter-widgets/controls"
     }
    },
    "b394b798ad3847739fdd768a0185d069": {
     "model_module": "@jupyter-widgets/base",
     "model_name": "LayoutModel",
     "model_module_version": "1.2.0",
     "state": {
      "_view_name": "LayoutView",
      "grid_template_rows": null,
      "right": null,
      "justify_content": null,
      "_view_module": "@jupyter-widgets/base",
      "overflow": null,
      "_model_module_version": "1.2.0",
      "_view_count": null,
      "flex_flow": null,
      "width": null,
      "min_width": null,
      "border": null,
      "align_items": null,
      "bottom": null,
      "_model_module": "@jupyter-widgets/base",
      "top": null,
      "grid_column": null,
      "overflow_y": null,
      "overflow_x": null,
      "grid_auto_flow": null,
      "grid_area": null,
      "grid_template_columns": null,
      "flex": null,
      "_model_name": "LayoutModel",
      "justify_items": null,
      "grid_row": null,
      "max_height": null,
      "align_content": null,
      "visibility": null,
      "align_self": null,
      "height": null,
      "min_height": null,
      "padding": null,
      "grid_auto_rows": null,
      "grid_gap": null,
      "max_width": null,
      "order": null,
      "_view_module_version": "1.2.0",
      "grid_template_areas": null,
      "object_position": null,
      "object_fit": null,
      "grid_auto_columns": null,
      "margin": null,
      "display": null,
      "left": null
     }
    },
    "28835a796fcc490e992ca8420fcd9915": {
     "model_module": "@jupyter-widgets/controls",
     "model_name": "ProgressStyleModel",
     "model_module_version": "1.5.0",
     "state": {
      "_view_name": "StyleView",
      "_model_name": "ProgressStyleModel",
      "description_width": "",
      "_view_module": "@jupyter-widgets/base",
      "_model_module_version": "1.5.0",
      "_view_count": null,
      "_view_module_version": "1.2.0",
      "bar_color": null,
      "_model_module": "@jupyter-widgets/controls"
     }
    },
    "66faf8d1ab4341c8af541720181209a5": {
     "model_module": "@jupyter-widgets/base",
     "model_name": "LayoutModel",
     "model_module_version": "1.2.0",
     "state": {
      "_view_name": "LayoutView",
      "grid_template_rows": null,
      "right": null,
      "justify_content": null,
      "_view_module": "@jupyter-widgets/base",
      "overflow": null,
      "_model_module_version": "1.2.0",
      "_view_count": null,
      "flex_flow": null,
      "width": null,
      "min_width": null,
      "border": null,
      "align_items": null,
      "bottom": null,
      "_model_module": "@jupyter-widgets/base",
      "top": null,
      "grid_column": null,
      "overflow_y": null,
      "overflow_x": null,
      "grid_auto_flow": null,
      "grid_area": null,
      "grid_template_columns": null,
      "flex": null,
      "_model_name": "LayoutModel",
      "justify_items": null,
      "grid_row": null,
      "max_height": null,
      "align_content": null,
      "visibility": null,
      "align_self": null,
      "height": null,
      "min_height": null,
      "padding": null,
      "grid_auto_rows": null,
      "grid_gap": null,
      "max_width": null,
      "order": null,
      "_view_module_version": "1.2.0",
      "grid_template_areas": null,
      "object_position": null,
      "object_fit": null,
      "grid_auto_columns": null,
      "margin": null,
      "display": null,
      "left": null
     }
    },
    "d671bc4506cc43c1a96fb9db628135a2": {
     "model_module": "@jupyter-widgets/controls",
     "model_name": "DescriptionStyleModel",
     "model_module_version": "1.5.0",
     "state": {
      "_view_name": "StyleView",
      "_model_name": "DescriptionStyleModel",
      "description_width": "",
      "_view_module": "@jupyter-widgets/base",
      "_model_module_version": "1.5.0",
      "_view_count": null,
      "_view_module_version": "1.2.0",
      "_model_module": "@jupyter-widgets/controls"
     }
    },
    "08a5011f76ac4e32adb3d8a2c444c93e": {
     "model_module": "@jupyter-widgets/base",
     "model_name": "LayoutModel",
     "model_module_version": "1.2.0",
     "state": {
      "_view_name": "LayoutView",
      "grid_template_rows": null,
      "right": null,
      "justify_content": null,
      "_view_module": "@jupyter-widgets/base",
      "overflow": null,
      "_model_module_version": "1.2.0",
      "_view_count": null,
      "flex_flow": null,
      "width": null,
      "min_width": null,
      "border": null,
      "align_items": null,
      "bottom": null,
      "_model_module": "@jupyter-widgets/base",
      "top": null,
      "grid_column": null,
      "overflow_y": null,
      "overflow_x": null,
      "grid_auto_flow": null,
      "grid_area": null,
      "grid_template_columns": null,
      "flex": null,
      "_model_name": "LayoutModel",
      "justify_items": null,
      "grid_row": null,
      "max_height": null,
      "align_content": null,
      "visibility": null,
      "align_self": null,
      "height": null,
      "min_height": null,
      "padding": null,
      "grid_auto_rows": null,
      "grid_gap": null,
      "max_width": null,
      "order": null,
      "_view_module_version": "1.2.0",
      "grid_template_areas": null,
      "object_position": null,
      "object_fit": null,
      "grid_auto_columns": null,
      "margin": null,
      "display": null,
      "left": null
     }
    },
    "04e566009461420888b0f75a6629bfaa": {
     "model_module": "@jupyter-widgets/controls",
     "model_name": "HBoxModel",
     "model_module_version": "1.5.0",
     "state": {
      "_view_name": "HBoxView",
      "_dom_classes": [],
      "_model_name": "HBoxModel",
      "_view_module": "@jupyter-widgets/controls",
      "_model_module_version": "1.5.0",
      "_view_count": null,
      "_view_module_version": "1.5.0",
      "box_style": "",
      "layout": "IPY_MODEL_13c339a22a27458c8e7c683c891a9019",
      "_model_module": "@jupyter-widgets/controls",
      "children": [
       "IPY_MODEL_0f53c887d00346a194b69633532f2b7f",
       "IPY_MODEL_ce9668457d274c62a3d1f6ae7e511623",
       "IPY_MODEL_f3e59b939fa34cc8bb59e0e316d5cab4"
      ]
     }
    },
    "13c339a22a27458c8e7c683c891a9019": {
     "model_module": "@jupyter-widgets/base",
     "model_name": "LayoutModel",
     "model_module_version": "1.2.0",
     "state": {
      "_view_name": "LayoutView",
      "grid_template_rows": null,
      "right": null,
      "justify_content": null,
      "_view_module": "@jupyter-widgets/base",
      "overflow": null,
      "_model_module_version": "1.2.0",
      "_view_count": null,
      "flex_flow": null,
      "width": null,
      "min_width": null,
      "border": null,
      "align_items": null,
      "bottom": null,
      "_model_module": "@jupyter-widgets/base",
      "top": null,
      "grid_column": null,
      "overflow_y": null,
      "overflow_x": null,
      "grid_auto_flow": null,
      "grid_area": null,
      "grid_template_columns": null,
      "flex": null,
      "_model_name": "LayoutModel",
      "justify_items": null,
      "grid_row": null,
      "max_height": null,
      "align_content": null,
      "visibility": null,
      "align_self": null,
      "height": null,
      "min_height": null,
      "padding": null,
      "grid_auto_rows": null,
      "grid_gap": null,
      "max_width": null,
      "order": null,
      "_view_module_version": "1.2.0",
      "grid_template_areas": null,
      "object_position": null,
      "object_fit": null,
      "grid_auto_columns": null,
      "margin": null,
      "display": null,
      "left": null
     }
    },
    "0f53c887d00346a194b69633532f2b7f": {
     "model_module": "@jupyter-widgets/controls",
     "model_name": "HTMLModel",
     "model_module_version": "1.5.0",
     "state": {
      "_view_name": "HTMLView",
      "style": "IPY_MODEL_c5929ea5aebf4f129671c3f1cd04c980",
      "_dom_classes": [],
      "description": "",
      "_model_name": "HTMLModel",
      "placeholder": "​",
      "_view_module": "@jupyter-widgets/controls",
      "_model_module_version": "1.5.0",
      "value": "Reduce Progress Bar: 100%",
      "_view_count": null,
      "_view_module_version": "1.5.0",
      "description_tooltip": null,
      "_model_module": "@jupyter-widgets/controls",
      "layout": "IPY_MODEL_ae3f810a6b574ffcb8c924fc81305cc8"
     }
    },
    "ce9668457d274c62a3d1f6ae7e511623": {
     "model_module": "@jupyter-widgets/controls",
     "model_name": "FloatProgressModel",
     "model_module_version": "1.5.0",
     "state": {
      "_view_name": "ProgressView",
      "style": "IPY_MODEL_ac1bc04802264ea5bc12b75b9e94a617",
      "_dom_classes": [],
      "description": "",
      "_model_name": "FloatProgressModel",
      "bar_style": "success",
      "max": 24,
      "_view_module": "@jupyter-widgets/controls",
      "_model_module_version": "1.5.0",
      "value": 24,
      "_view_count": null,
      "_view_module_version": "1.5.0",
      "orientation": "horizontal",
      "min": 0,
      "description_tooltip": null,
      "_model_module": "@jupyter-widgets/controls",
      "layout": "IPY_MODEL_eba6deaaf49049aeae63ef15f4d5ee24"
     }
    },
    "f3e59b939fa34cc8bb59e0e316d5cab4": {
     "model_module": "@jupyter-widgets/controls",
     "model_name": "HTMLModel",
     "model_module_version": "1.5.0",
     "state": {
      "_view_name": "HTMLView",
      "style": "IPY_MODEL_351192d4f5b949b6bfd1a521640d00d8",
      "_dom_classes": [],
      "description": "",
      "_model_name": "HTMLModel",
      "placeholder": "​",
      "_view_module": "@jupyter-widgets/controls",
      "_model_module_version": "1.5.0",
      "value": " 24/24 [00:03&lt;00:00, 10.44it/s]",
      "_view_count": null,
      "_view_module_version": "1.5.0",
      "description_tooltip": null,
      "_model_module": "@jupyter-widgets/controls",
      "layout": "IPY_MODEL_d0bd4fe7fec242468169d59c9dbd087c"
     }
    },
    "c5929ea5aebf4f129671c3f1cd04c980": {
     "model_module": "@jupyter-widgets/controls",
     "model_name": "DescriptionStyleModel",
     "model_module_version": "1.5.0",
     "state": {
      "_view_name": "StyleView",
      "_model_name": "DescriptionStyleModel",
      "description_width": "",
      "_view_module": "@jupyter-widgets/base",
      "_model_module_version": "1.5.0",
      "_view_count": null,
      "_view_module_version": "1.2.0",
      "_model_module": "@jupyter-widgets/controls"
     }
    },
    "ae3f810a6b574ffcb8c924fc81305cc8": {
     "model_module": "@jupyter-widgets/base",
     "model_name": "LayoutModel",
     "model_module_version": "1.2.0",
     "state": {
      "_view_name": "LayoutView",
      "grid_template_rows": null,
      "right": null,
      "justify_content": null,
      "_view_module": "@jupyter-widgets/base",
      "overflow": null,
      "_model_module_version": "1.2.0",
      "_view_count": null,
      "flex_flow": null,
      "width": null,
      "min_width": null,
      "border": null,
      "align_items": null,
      "bottom": null,
      "_model_module": "@jupyter-widgets/base",
      "top": null,
      "grid_column": null,
      "overflow_y": null,
      "overflow_x": null,
      "grid_auto_flow": null,
      "grid_area": null,
      "grid_template_columns": null,
      "flex": null,
      "_model_name": "LayoutModel",
      "justify_items": null,
      "grid_row": null,
      "max_height": null,
      "align_content": null,
      "visibility": null,
      "align_self": null,
      "height": null,
      "min_height": null,
      "padding": null,
      "grid_auto_rows": null,
      "grid_gap": null,
      "max_width": null,
      "order": null,
      "_view_module_version": "1.2.0",
      "grid_template_areas": null,
      "object_position": null,
      "object_fit": null,
      "grid_auto_columns": null,
      "margin": null,
      "display": null,
      "left": null
     }
    },
    "ac1bc04802264ea5bc12b75b9e94a617": {
     "model_module": "@jupyter-widgets/controls",
     "model_name": "ProgressStyleModel",
     "model_module_version": "1.5.0",
     "state": {
      "_view_name": "StyleView",
      "_model_name": "ProgressStyleModel",
      "description_width": "",
      "_view_module": "@jupyter-widgets/base",
      "_model_module_version": "1.5.0",
      "_view_count": null,
      "_view_module_version": "1.2.0",
      "bar_color": null,
      "_model_module": "@jupyter-widgets/controls"
     }
    },
    "eba6deaaf49049aeae63ef15f4d5ee24": {
     "model_module": "@jupyter-widgets/base",
     "model_name": "LayoutModel",
     "model_module_version": "1.2.0",
     "state": {
      "_view_name": "LayoutView",
      "grid_template_rows": null,
      "right": null,
      "justify_content": null,
      "_view_module": "@jupyter-widgets/base",
      "overflow": null,
      "_model_module_version": "1.2.0",
      "_view_count": null,
      "flex_flow": null,
      "width": null,
      "min_width": null,
      "border": null,
      "align_items": null,
      "bottom": null,
      "_model_module": "@jupyter-widgets/base",
      "top": null,
      "grid_column": null,
      "overflow_y": null,
      "overflow_x": null,
      "grid_auto_flow": null,
      "grid_area": null,
      "grid_template_columns": null,
      "flex": null,
      "_model_name": "LayoutModel",
      "justify_items": null,
      "grid_row": null,
      "max_height": null,
      "align_content": null,
      "visibility": null,
      "align_self": null,
      "height": null,
      "min_height": null,
      "padding": null,
      "grid_auto_rows": null,
      "grid_gap": null,
      "max_width": null,
      "order": null,
      "_view_module_version": "1.2.0",
      "grid_template_areas": null,
      "object_position": null,
      "object_fit": null,
      "grid_auto_columns": null,
      "margin": null,
      "display": null,
      "left": null
     }
    },
    "351192d4f5b949b6bfd1a521640d00d8": {
     "model_module": "@jupyter-widgets/controls",
     "model_name": "DescriptionStyleModel",
     "model_module_version": "1.5.0",
     "state": {
      "_view_name": "StyleView",
      "_model_name": "DescriptionStyleModel",
      "description_width": "",
      "_view_module": "@jupyter-widgets/base",
      "_model_module_version": "1.5.0",
      "_view_count": null,
      "_view_module_version": "1.2.0",
      "_model_module": "@jupyter-widgets/controls"
     }
    },
    "d0bd4fe7fec242468169d59c9dbd087c": {
     "model_module": "@jupyter-widgets/base",
     "model_name": "LayoutModel",
     "model_module_version": "1.2.0",
     "state": {
      "_view_name": "LayoutView",
      "grid_template_rows": null,
      "right": null,
      "justify_content": null,
      "_view_module": "@jupyter-widgets/base",
      "overflow": null,
      "_model_module_version": "1.2.0",
      "_view_count": null,
      "flex_flow": null,
      "width": null,
      "min_width": null,
      "border": null,
      "align_items": null,
      "bottom": null,
      "_model_module": "@jupyter-widgets/base",
      "top": null,
      "grid_column": null,
      "overflow_y": null,
      "overflow_x": null,
      "grid_auto_flow": null,
      "grid_area": null,
      "grid_template_columns": null,
      "flex": null,
      "_model_name": "LayoutModel",
      "justify_items": null,
      "grid_row": null,
      "max_height": null,
      "align_content": null,
      "visibility": null,
      "align_self": null,
      "height": null,
      "min_height": null,
      "padding": null,
      "grid_auto_rows": null,
      "grid_gap": null,
      "max_width": null,
      "order": null,
      "_view_module_version": "1.2.0",
      "grid_template_areas": null,
      "object_position": null,
      "object_fit": null,
      "grid_auto_columns": null,
      "margin": null,
      "display": null,
      "left": null
     }
    }
   }
  }
 },
 "cells": [
  {
   "cell_type": "markdown",
   "metadata": {
    "id": "XJnQt1U1IfpL"
   },
   "source": [
    "# Big Data Platform\n",
    "## Final Project: Small files and Map Reduce"
   ]
  },
  {
   "cell_type": "markdown",
   "metadata": {
    "id": "s8G5wTCIIfpQ"
   },
   "source": [
    "**By:**  \n",
    "\n",
    "Aviv Ples, 318357233  \n",
    "Itay Shapira, 034250043"
   ]
  },
  {
   "cell_type": "markdown",
   "metadata": {
    "id": "XnPghOUJIfpU"
   },
   "source": [
    "**Imports**"
   ]
  },
  {
   "cell_type": "code",
   "metadata": {
    "id": "zoQ1WNc0IfpV"
   },
   "source": [
    "# general\n",
    "import os\n",
    "import time\n",
    "import random\n",
    "import warnings\n",
    "import threading\n",
    "import shutil\n",
    "\n",
    "# ml\n",
    "import numpy as np\n",
    "import scipy as sp\n",
    "import pandas as pd\n",
    "\n",
    "# visual\n",
    "import seaborn as sns\n",
    "import matplotlib.pyplot as plt\n",
    "\n",
    "# notebook\n",
    "from IPython.display import display\n",
    "from tqdm.notebook import tqdm"
   ],
   "execution_count": 1,
   "outputs": []
  },
  {
   "cell_type": "markdown",
   "metadata": {
    "id": "3hBeqCqNIfpV"
   },
   "source": [
    "**Hide Warnings**"
   ]
  },
  {
   "cell_type": "code",
   "metadata": {
    "id": "uQqFqiejIfpW"
   },
   "source": [
    "warnings.filterwarnings('ignore')"
   ],
   "execution_count": 2,
   "outputs": []
  },
  {
   "cell_type": "markdown",
   "metadata": {
    "id": "iA0MF--3IfpX"
   },
   "source": [
    "**Set Random Seed**"
   ]
  },
  {
   "cell_type": "code",
   "metadata": {
    "id": "iB-G0YubIfpY"
   },
   "source": [
    "random.seed(123)"
   ],
   "execution_count": 3,
   "outputs": []
  },
  {
   "cell_type": "markdown",
   "metadata": {
    "id": "brtbKNl5IfpY"
   },
   "source": [
    "# Creation of Random Small Files\n",
    "\n",
    "We work locally as this is a prototype.\n",
    "\n",
    "We create 500 different CSV files in this format:  `myCSV[Number].csv`, where each file contains a random number of records, $10 - 10,000$ (due to limited computing resources)\n",
    "\n",
    "The schema is `(‘firstname’,’secondname’,city’)`  \n",
    "\n",
    "Values randomly chosen from the lists: \n",
    "- `firstname` : `[John, Dana, Scott, Marc, Steven, Michael, Albert, Johanna]`  \n",
    "- `city` : `[New York, Haifa, München, London, Palo Alto,  Tel Aviv, Kiel, Hamburg]`  \n",
    "- `secondname`: any value  "
   ]
  },
  {
   "cell_type": "code",
   "metadata": {
    "id": "v8lmbikyOIR3"
   },
   "source": [
    "def generate_random_name():\n",
    "    \"\"\"\n",
    "    Generate a random name: First character is uppercase and\n",
    "    alphabetic and the rest is series of lower case characters of length\n",
    "    1 - 12. Giving us an output string of a length 2 - 13\n",
    "\n",
    "    Returns:\n",
    "    str: Randomly generated name\n",
    "    \"\"\"\n",
    "    return random.choice(string.ascii_uppercase) + \\\n",
    "           ''.join(random.choices(string.ascii_lowercase, k=random.choice(range(1,12))))"
   ],
   "execution_count": 4,
   "outputs": []
  },
  {
   "cell_type": "code",
   "metadata": {
    "colab": {
     "base_uri": "https://localhost:8080/",
     "height": 0
    },
    "id": "zYzYykOhIfpY",
    "outputId": "69d05e95-9e09-4aff-aac6-abe1e95a446d"
   },
   "source": [
    "import string\n",
    "\n",
    "firstname = ['John', 'Dana', 'Scott', 'Marc', 'Steven', 'Michael', 'Albert', 'Johanna']\n",
    "city = ['NewYork', 'Haifa', 'Munchen', 'London', 'PaloAlto',  'TelAviv', 'Kiel', 'Hamburg']\n",
    "# Use list comprehension in order to create a list of 8 randomly generated names\n",
    "secondname = [generate_random_name() for _ in range(8)] # please use some version of random\n",
    "\n",
    "print(secondname)"
   ],
   "execution_count": 5,
   "outputs": [
    {
     "output_type": "stream",
     "name": "stdout",
     "text": [
      "['Bckcxa', 'Riweiigalc', 'Tbilxcdu', 'Axogvt', 'Kufpnvikun', 'Vqrxmrjate', 'Creikbloi', 'Gcqajfnsxqz']\n"
     ]
    }
   ]
  },
  {
   "cell_type": "code",
   "metadata": {
    "id": "HECTaKMvP6ki"
   },
   "source": [
    "def generate_csvs(number_of_csvs):\n",
    "    \"\"\"\n",
    "    Generate number_of_csvs csv files with a random number, 10-10,000\n",
    "    of randomly generated rows for the defined columns by randomly picking\n",
    "    a value from the lists of possible values for each column.\n",
    "\n",
    "    Parameters:\n",
    "    number_of_csvs (int): number of csv files to generate\n",
    "    \"\"\"\n",
    "    for i in tqdm(range(1,number_of_csvs+1)):\n",
    "        df = pd.DataFrame(columns=['firstname', 'secondname', 'city'])\n",
    "        n = np.random.randint(10, 10001)\n",
    "        df['firstname'] = np.random.choice(firstname, n)\n",
    "        df['secondname'] = np.random.choice(secondname, n)\n",
    "        df['city'] = np.random.choice(city, n)\n",
    "        df.to_csv(f'myCSV{i}.csv', index=False)"
   ],
   "execution_count": 6,
   "outputs": []
  },
  {
   "cell_type": "code",
   "metadata": {
    "id": "uhjAeVdVR11L",
    "colab": {
     "base_uri": "https://localhost:8080/",
     "height": 49,
     "referenced_widgets": [
      "7120b01096f04ebbb537845d67327c11",
      "6fe6993bc8b949929eceb72d0ae46482",
      "b53956d2d0264dc2a74a578de680f6df",
      "1d750f0d627842ceb868cbcc3fdfb99d",
      "6242dc43310045ce906c262ab4c3225b",
      "0e94a54e51b8405688a356a64fbab534",
      "c7b23530b66f4d6a957e02e3defb6ac0",
      "323562d47e9e48d0b445bf651d4e0115",
      "998b30ecf25e4df392e83e0550773338",
      "80a291350cf543a2b091394e826d3597",
      "20f07c7442ab49d293c8681f32474127"
     ]
    },
    "outputId": "b32a664f-da46-45e9-f3ae-14c57cc58e2c"
   },
   "source": [
    "generate_csvs(500)"
   ],
   "execution_count": 7,
   "outputs": [
    {
     "output_type": "display_data",
     "data": {
      "application/vnd.jupyter.widget-view+json": {
       "model_id": "7120b01096f04ebbb537845d67327c11",
       "version_minor": 0,
       "version_major": 2
      },
      "text/plain": [
       "  0%|          | 0/500 [00:00<?, ?it/s]"
      ]
     },
     "metadata": {}
    }
   ]
  },
  {
   "cell_type": "markdown",
   "metadata": {
    "id": "IktgIS6HIfpZ"
   },
   "source": [
    "Use python to Create `mapreducetemp` and `mapreducefinal` folders"
   ]
  },
  {
   "cell_type": "code",
   "metadata": {
    "id": "iomIz7kIIfpZ"
   },
   "source": [
    "os.makedirs(\"mapreducetemp\", exist_ok=True)\n",
    "os.makedirs(\"mapreducefinal\", exist_ok=True)"
   ],
   "execution_count": 8,
   "outputs": []
  },
  {
   "cell_type": "markdown",
   "source": [
    "# Merge Small Files"
   ],
   "metadata": {
    "id": "UC073ymc50pf"
   }
  },
  {
   "cell_type": "markdown",
   "source": [
    "Considering this is a prototype we do the merging as follows:\n",
    "\n",
    "1. We segregate the large files from the small files\n",
    "2. Sort the small files into the merging queue\n",
    "3. Small files are put into the queue with the maximum merge limit\n",
    "4. Files are placed into the mergin queue until the queue size becomes equal to the merge criteria\n",
    "5. Finally we merge the files in each queue into one\n",
    "\n",
    "<br>\n",
    "\n",
    "This method only covers a prototype solution for CSV files"
   ],
   "metadata": {
    "id": "JleXE5bi6cK3"
   }
  },
  {
   "cell_type": "code",
   "source": [
    "# Define the merge limit to 210 KB since the max file size is 230 KB in our case\n",
    "merge_limit = 210 * 1024"
   ],
   "metadata": {
    "id": "gosasT-68uvs"
   },
   "execution_count": 9,
   "outputs": []
  },
  {
   "cell_type": "code",
   "source": [
    "# Create folder to save the large files and merged files\n",
    "\n",
    "os.makedirs(\"large_files\", exist_ok=True)"
   ],
   "metadata": {
    "id": "awX40Owr_xyu"
   },
   "execution_count": 10,
   "outputs": []
  },
  {
   "cell_type": "code",
   "source": [
    "# Segregate large files from small files\n",
    "large_files = [_ for _ in os.listdir('.') if _.endswith('.csv') \\\n",
    "               and os.path.getsize(_) >= merge_limit]\n",
    "\n",
    "# Copy large files into the new folder\n",
    "# In our case we copy so we can time MapReduce on the small files\n",
    "# as well as the large and merged files\n",
    "for large_file in large_files:\n",
    "    shutil.copyfile(large_file, f\"large_files/{large_file}\")\n",
    "\n",
    "\n",
    "small_files = [_ for _ in os.listdir('.') if _.endswith('.csv') \\\n",
    "               and os.path.getsize(_) < merge_limit]"
   ],
   "metadata": {
    "id": "uxwuOT8D-IzF"
   },
   "execution_count": 11,
   "outputs": []
  },
  {
   "cell_type": "code",
   "source": [
    "# Lets use the Worst fit strategy to sort the small files\n",
    "# Hence, the maximum number of queues needed is the number of small files\n",
    "\n",
    "def worst_fit(files, merge_limit):\n",
    "    file_sizes = [os.path.getsize(file) for file in files]\n",
    "    queues_file = []\n",
    "    queues_size = []\n",
    "\n",
    "    # Find the best queue that can accommodate file_size\n",
    "    for i in tqdm(range(len(file_sizes))):\n",
    "        # Initialize maximum space left and index of worst queue\n",
    "        mx, wi = -1, 0\n",
    "        \n",
    "        for j in range(len(queues_size)):\n",
    "            if (queues_size[j] >= file_sizes[i]) and (queues_size[j] - file_sizes[i] > mx):\n",
    "                wi = j\n",
    "                mx = queues_size[j] - file_sizes[i]\n",
    "\n",
    "        # If no queue could accomodate file_size create a new queue\n",
    "        if mx == -1:\n",
    "            queues_size.append(merge_limit - file_sizes[i])\n",
    "            queues_file.append([files[i]])\n",
    "        else:\n",
    "            queues_size[wi] -= file_sizes[i]\n",
    "            queues_file[wi].append(files[i])\n",
    "\n",
    "    return queues_file, queues_size"
   ],
   "metadata": {
    "id": "PaZCrDafDqy5"
   },
   "execution_count": 12,
   "outputs": []
  },
  {
   "cell_type": "code",
   "source": [
    "merged_files, merged_files_size = worst_fit(small_files, merge_limit)"
   ],
   "metadata": {
    "colab": {
     "base_uri": "https://localhost:8080/",
     "height": 49,
     "referenced_widgets": [
      "e85eba70171a476ca68fbdcd25e3c7d8",
      "a55855768db94f3a9d3f2de15dc57d83",
      "401f0b24b10e40f882356068f2425eb8",
      "b24fcf925d5f4f71a72e1fbf1fbcd0d7",
      "fc702fcf524647d788beae7f70f405fd",
      "f84e9e57d70147609d97995017276bea",
      "e91c553c0121472397d0abfbe0799d6c",
      "3d6531cad3fb4aeab7dc60e692581c82",
      "de271e0fceb0484b9efc2d45a975937b",
      "78531e7c5cef4048a1ace84e0315b36b",
      "712001fdefd744f6b53deaf9ace2abe2"
     ]
    },
    "id": "01Q7RTdVM-i5",
    "outputId": "f42b4ecd-2bb6-44f3-e510-5c2a2d019e37"
   },
   "execution_count": 13,
   "outputs": [
    {
     "output_type": "display_data",
     "data": {
      "application/vnd.jupyter.widget-view+json": {
       "model_id": "e85eba70171a476ca68fbdcd25e3c7d8",
       "version_minor": 0,
       "version_major": 2
      },
      "text/plain": [
       "  0%|          | 0/458 [00:00<?, ?it/s]"
      ]
     },
     "metadata": {}
    }
   ]
  },
  {
   "cell_type": "code",
   "source": [
    "# Merge the CSV files into one file\n",
    "for i, to_merge in tqdm(enumerate(merged_files), total=len(merged_files)):\n",
    "    df = pd.concat(map(pd.read_csv, to_merge), ignore_index=True)\n",
    "    df.to_csv(f'large_files/myMergedCSV{i}.csv', index=False)"
   ],
   "metadata": {
    "colab": {
     "base_uri": "https://localhost:8080/",
     "height": 49,
     "referenced_widgets": [
      "4f546059b5804d95a369ddee9c209e33",
      "98c9490728d048b79ee6f3542acb6c80",
      "9b816231b16a42a68844ad8ea0bd5f7a",
      "c3f8a35b248242a2bd36db4beee57c0e",
      "d86ebc5923634b0aa7edcccb0832e40f",
      "269a2242faf0418db624f6b0e785cd85",
      "e4b1db71b9e4404abdfb07e859e6e9ee",
      "60197983d1eb4baeadc16b720e0b0a67",
      "82b4f21788414c1ebace67ccd1e6b148",
      "88f4dd473a5e4279b7ef9bf4cf23ec21",
      "1fb87285b6ec4f0bb6b50a5e4c4c0456"
     ]
    },
    "id": "UvvMzoC2Nboi",
    "outputId": "83b58fd2-8aac-4d79-c0f1-08d1937f363e"
   },
   "execution_count": 14,
   "outputs": [
    {
     "output_type": "display_data",
     "data": {
      "application/vnd.jupyter.widget-view+json": {
       "model_id": "4f546059b5804d95a369ddee9c209e33",
       "version_minor": 0,
       "version_major": 2
      },
      "text/plain": [
       "  0%|          | 0/277 [00:00<?, ?it/s]"
      ]
     },
     "metadata": {}
    }
   ]
  },
  {
   "cell_type": "markdown",
   "metadata": {
    "id": "aDyDc0WiIfpZ"
   },
   "source": [
    "# MapReduceEngine"
   ]
  },
  {
   "cell_type": "markdown",
   "metadata": {
    "id": "oq58dU37Ifpa"
   },
   "source": [
    "Write Python code to create an SQLite database with the following table\n",
    "\n",
    "`TableName: temp_results`   \n",
    "`schema: (key:TEXT,value:TEXT)`"
   ]
  },
  {
   "cell_type": "code",
   "metadata": {
    "id": "DbAzzzW_TlqQ"
   },
   "source": [
    "import sqlite3 as sql"
   ],
   "execution_count": 15,
   "outputs": []
  },
  {
   "cell_type": "code",
   "metadata": {
    "id": "wkRj_rcZS3my"
   },
   "source": [
    "def create_connection(db_file):\n",
    "    \"\"\"\n",
    "    Create an sql connection to the db by the given db file\n",
    "\n",
    "    Parameters:\n",
    "    db_file (str): Path of the db file to use to make a connection to the db\n",
    "\n",
    "    Returns:\n",
    "    conn (sql.Connection): Connection to db\n",
    "    \"\"\"\n",
    "    conn = sql.connect(db_file)\n",
    "    return conn\n",
    "\n",
    "def create_table(conn, create_table_sql):\n",
    "    \"\"\"\n",
    "    Create a table in the db with the given sql execution code\n",
    "\n",
    "    Parameters:\n",
    "    conn (sql.Connection): connection to db\n",
    "    create_table_sql (str): sql execution code for table creation\n",
    "    \"\"\"\n",
    "    c = conn.cursor()\n",
    "    c.execute(create_table_sql)\n",
    "    conn.commit()\n",
    "    c.close()"
   ],
   "execution_count": 16,
   "outputs": []
  },
  {
   "cell_type": "code",
   "metadata": {
    "id": "JdyiHakNIfpa"
   },
   "source": [
    "sql_create_table = \"\"\" CREATE TABLE IF NOT EXISTS temp_results (\n",
    "                           key TEXT,\n",
    "\t\t\t\t\t\t   value TEXT\n",
    "                           ); \"\"\"\n",
    "\n",
    "# create a database connection\n",
    "sql_conn = create_connection(\"mydb.db\")\n",
    "\n",
    "# create table\n",
    "create_table(sql_conn, sql_create_table)"
   ],
   "execution_count": 17,
   "outputs": []
  },
  {
   "cell_type": "markdown",
   "metadata": {
    "id": "M8_LY2q4Ifpa"
   },
   "source": [
    "**Python class** `MapReduceEngine` with method:\n",
    "\n",
    "`def execute(input_data, map_function, reduce_function)`:\n",
    "\n",
    "- `input_data`: is an array of elements\n",
    "- `map_function`: is a pointer to the Python function that returns a list where each entry of the form (key,value) \n",
    "- `reduce_function`: is pointer to the Python function that returns a list where each entry of the form (key,value)\n",
    "\n",
    "<br>\n",
    "\n",
    "`execute(...)` function:\n",
    "\n",
    "<br>\n",
    "\n",
    "1. For each key  from the  input_data, start a new Python thread that executes map_function(key) \n",
    "<br>\n",
    "2. Each thread will store results of the map_function into mapreducetemp/part-tmp-X.csv where X is a unique number per each thread.\n",
    "<br>\n",
    "3. Keep the list of all threads and check whether they are completed.\n",
    "<br>\n",
    "4. Once all threads completed, load content of all CSV files into the temp_results table in SQLite.\n",
    "\n",
    "    Remark: Easiest way to loop over all CSV files and load them into Pandas first, then load into SQLite  \n",
    "    `data = pd.read_csv(path to csv)`  \n",
    "    `data.to_sql(‘temp_results’,sql_conn, if_exists=’append’,index=False)`\n",
    "<br><br>\n",
    "\n",
    "5. **SQL statement** that generates a sorted list by key of the form `(key, value)` where value is concatenation of ALL values in the value column that match specific key. For example, if table has records\n",
    "<table>\n",
    "    <tbody>\n",
    "            <tr>\n",
    "                <td style=\"text-align:center\">John</td>\n",
    "                <td style=\"text-align:center\">myCSV1.csv</td>\n",
    "            </tr>\n",
    "            <tr>\n",
    "                <td style=\"text-align:center\">Dana</td>\n",
    "                <td style=\"text-align:center\">myCSV5.csv</td>\n",
    "            </tr>\n",
    "            <tr>\n",
    "                <td style=\"text-align:center\">John</td>\n",
    "                <td style=\"text-align:center\">myCSV7.csv</td>\n",
    "            </tr>\n",
    "    </tbody>\n",
    "</table>\n",
    "\n",
    "    Then SQL statement will return `(‘John’,’myCSV1.csv, myCSV7.csv’)`\n",
    "<br>\n",
    "6. **Start a new thread** for each value from the generated list in the previous step, to execute `reduce_function(key,value)` \n",
    "<br>    \n",
    "7. Each thread will store results of reduce_function into `mapreducefinal/part-X-final.csv` file  \n",
    "<br>\n",
    "8. Keep list of all threads and check whether they are completed  \n",
    "<br>\n",
    "9. Once all threads completed, print on the screen `MapReduce Completed` otherwise print `MapReduce Failed`"
   ]
  },
  {
   "cell_type": "code",
   "metadata": {
    "id": "9ylQAmc0XJw2"
   },
   "source": [
    "from concurrent.futures import ProcessPoolExecutor, as_completed\n",
    "from threading import current_thread\n",
    "import logging"
   ],
   "execution_count": 18,
   "outputs": []
  },
  {
   "cell_type": "code",
   "metadata": {
    "id": "WBPgtNyvzIXD"
   },
   "source": [
    "# Setup logger file\n",
    "logging.basicConfig(filename='mapreduce.log', filemode='w+',\n",
    "                    format='%(asctime)s | %(threadName)s | %(levelname)s | %(message)s',\n",
    "                    level=logging.INFO)"
   ],
   "execution_count": 19,
   "outputs": []
  },
  {
   "cell_type": "code",
   "metadata": {
    "id": "zhmLNVT_tZyq"
   },
   "source": [
    "def thread_wrapper(function, save_path, value):\n",
    "    \"\"\"\n",
    "    A wrapper to run the threads with logging capability. If the thread fails\n",
    "    raise the exception.\n",
    "\n",
    "    Parameters:\n",
    "    function: function to run by thread\n",
    "    save_path (str): path to save the csv\n",
    "    value (tuple): value to run the function on and thread_id\n",
    "    \"\"\"\n",
    "    data, thread_id = value\n",
    "    current_thread().name = f\"{function.__name__} thread {thread_id}\"\n",
    "    logging.info('Started')\n",
    "    try:\n",
    "        # If tuple then it means it's the reduce function\n",
    "        if type(data) is tuple:\n",
    "            res = function(*data)\n",
    "            df = pd.DataFrame(res)\n",
    "            df.to_csv(f'{save_path}/part-{thread_id}-final.csv',\n",
    "                        index=False)\n",
    "        # The map function\n",
    "        else:\n",
    "            res = function(data)\n",
    "            df = pd.DataFrame(res, columns=['key', 'value'])\n",
    "            df.to_csv(os.path.join(save_path,\n",
    "                                   f'part-tmp-{thread_id}.csv'),\n",
    "                      index=False)\n",
    "    except Exception as e:\n",
    "        logging.error(e)\n",
    "        raise e \n",
    "\n",
    "    logging.info('Ended')\n",
    "\n",
    "def pool_executor_wrapper(function, data, pbar, num_of_threads, save_path):\n",
    "    \"\"\"\n",
    "    A wrapper to execute the pool of threads\n",
    "\n",
    "    Parameters:\n",
    "    function: function to let the thread run\n",
    "    data: data to run the function on\n",
    "    pbar (tqdm): the progress bar we want to update as threads complete\n",
    "    num_of_threads (int): the max number of threads we want to run\n",
    "    save_path (str): path where we want to save our results\n",
    "\n",
    "    Returns:\n",
    "    str: if a thread fails returns a fail message otherwise returns nothing\n",
    "    \"\"\"\n",
    "    # Define the pool executor and start the threads\n",
    "    with ProcessPoolExecutor(max_workers=num_of_threads) as executor:\n",
    "        futures = list(map(lambda x: executor.submit(thread_wrapper, function, save_path, x),\n",
    "                           list(zip(data, range(1, num_of_threads + 1)))))\n",
    "        \n",
    "        # Go over the list of threads and check the completion status of each\n",
    "        for future in as_completed(futures):\n",
    "            try:\n",
    "                future.result()\n",
    "            except Exception as e:\n",
    "                return \"MapReduce Failed\"\n",
    "            \n",
    "            pbar.update(1)\n",
    "        "
   ],
   "execution_count": 20,
   "outputs": []
  },
  {
   "cell_type": "code",
   "metadata": {
    "id": "XlGmJQR0Ifpa"
   },
   "source": [
    "class MapReduceEngine:\n",
    "    def execute(self, input_data, map_function, reduce_function):\n",
    "        \"\"\"\n",
    "        Execute the mapreduce steps: map, shuffle and sort, reduce\n",
    "        Parallelize the map and reduce steps by creating threads to run the \n",
    "        map and reduce function in parallel on the partitioned data\n",
    "\n",
    "        Parameters:\n",
    "        input_data (dict): Dictionary to apply map_function on\n",
    "        map_function: Map function to apply on input_data\n",
    "        reduce_function: Reduce function on the shuffled and sorted output of\n",
    "                         map_function\n",
    "        \n",
    "        Returns:\n",
    "        str: Completion status message\n",
    "        \"\"\"\n",
    "\n",
    "        # Start a thread for each key in input_data and run map_function on it\n",
    "        num_of_threads = len(input_data)\n",
    "        mapreducetemp_path = \"mapreducetemp\"\n",
    "\n",
    "        # Define a progress bar to visualize progress of threads\n",
    "        with tqdm(total=num_of_threads, desc = 'Map Progress Bar') as pbar:\n",
    "            map_status = pool_executor_wrapper(map_function, input_data, pbar,\n",
    "                                               num_of_threads, mapreducetemp_path)\n",
    "\n",
    "        if map_status is not None:\n",
    "            return map_status\n",
    "\n",
    "        # Load content of all CSV files into temp_results table\n",
    "        for file in os.listdir(mapreducetemp_path):\n",
    "            if file.endswith(\".csv\"):\n",
    "                data = pd.read_csv(os.path.join(mapreducetemp_path, file))\n",
    "                data.to_sql('temp_results', sql_conn, if_exists='append', index=False)\n",
    "\n",
    "        # SQL statement to generate a sorted list by key\n",
    "        sql_generate_sorted_list = \"\"\"\n",
    "                                   SELECT key, GROUP_CONCAT(value)\n",
    "                                   FROM temp_results\n",
    "                                   GROUP BY key\n",
    "                                   ORDER BY key;\n",
    "                                   \"\"\"\n",
    "        sorted_list = sql_conn.execute(sql_generate_sorted_list).fetchall()\n",
    "\n",
    "        # Start a thread for each value from the generated list\n",
    "        num_of_threads = len(sorted_list)\n",
    "\n",
    "        # Define a progress bar to visualize progress of threads\n",
    "        with tqdm(total=num_of_threads, desc = 'Reduce Progress Bar') as pbar:\n",
    "            reduce_status = pool_executor_wrapper(reduce_function, sorted_list, pbar,\n",
    "                                                  num_of_threads, 'mapreducefinal',\n",
    "                                                  is_map=False)\n",
    "            \n",
    "        if reduce_status is not None:\n",
    "            return reduce_status\n",
    "\n",
    "        return \"MapReduce Completed\""
   ],
   "execution_count": 21,
   "outputs": []
  },
  {
   "cell_type": "markdown",
   "metadata": {
    "id": "Fc-ymlf_Ifpb"
   },
   "source": [
    "# Implement the MapReduce Inverted index of the JSON documents"
   ]
  },
  {
   "cell_type": "markdown",
   "metadata": {
    "id": "DoTvy10fIfpb"
   },
   "source": [
    "`inverted_map(document_name)`:\n",
    "\n",
    "Reads the CSV document from the local disc and return a list that contains entries of the form (key_value, document name).\n",
    "\n",
    "For example, if myCSV4.csv document has values like:  \n",
    "`{‘firstname’:’John’,‘secondname’:’Rambo’,‘city’:’Palo Alto’}`\n",
    "\n",
    "Then `inverted_map(‘myCSV4.csv’)` function will return a list:  \n",
    "`[(‘firstname_John’,’ myCSV4.csv’),(‘secondname_Rambo’,’ myCSV4.csv’), (‘city_Palo Alto’,’ myCSV4.csv’)]`"
   ]
  },
  {
   "cell_type": "code",
   "metadata": {
    "id": "DFprpdFtIfpb"
   },
   "source": [
    "def inverted_map(document_name):\n",
    "    \"\"\"\n",
    "    Reads the csv document from the local disk and return a list that contains\n",
    "    entries of the form (key_value, document name)\n",
    "\n",
    "    Parameters:\n",
    "    document_name (csv): csv document name to run the map function on\n",
    "    column_index (int): index of column to create list for\n",
    "\n",
    "    Returns:\n",
    "    entries (lst): list of tuples of the defined form\n",
    "    \"\"\"\n",
    "    entries = []\n",
    "    df = pd.read_csv(document_name)\n",
    "    for _, row in df.iterrows():\n",
    "        for col in df.columns:\n",
    "            entries.append((\"_\".join([col, row[col]]), document_name))\n",
    "    return entries"
   ],
   "execution_count": 22,
   "outputs": []
  },
  {
   "cell_type": "markdown",
   "metadata": {
    "id": "tdvHssNkIfpb"
   },
   "source": [
    "Reduce function:\n",
    "\n",
    "`inverted_reduce(value, documents)`, where the field “documents” contains a list of all CSV documents per given value.   \n",
    "This list might have duplicates.   \n",
    "Reduce function will return new list without duplicates.\n",
    "\n",
    "For example,  \n",
    "calling the function `inverted_reduce(‘firstname_Albert’,’myCSV2.csv, myCSV5.csv,myCSV2.csv’)`   \n",
    "will return a list `[‘firstname_Albert’,’myCSV2.csv, myCSV5.csv,myCSV2.csv’]`"
   ]
  },
  {
   "cell_type": "code",
   "metadata": {
    "id": "cFRcuds3Ifpb"
   },
   "source": [
    "def inverted_reduce(value, documents):\n",
    "    \"\"\"\n",
    "    Take the two parameters given and put them together in a list and get rid of\n",
    "    the duplicates in the parameter documents\n",
    "\n",
    "    Parameters:\n",
    "    value (str): column name and value in the form of columnname_value\n",
    "    documents(str): list of all csv documents per given value\n",
    "\n",
    "    Returns:\n",
    "    lst: concatenation of value and the list of csv documents with no duplicates\n",
    "    \"\"\"\n",
    "    return [value] + list(set(documents.split(\",\")))"
   ],
   "execution_count": 23,
   "outputs": []
  },
  {
   "cell_type": "markdown",
   "metadata": {
    "id": "tpB3VhtnIfpc"
   },
   "source": [
    "# Testing The MapReduce"
   ]
  },
  {
   "cell_type": "code",
   "source": [
    "from time import time"
   ],
   "metadata": {
    "id": "kOECIDqxbJIw"
   },
   "execution_count": 24,
   "outputs": []
  },
  {
   "cell_type": "markdown",
   "metadata": {
    "id": "6WmRLPieIfpc"
   },
   "source": [
    "**Run MapReduce on the merged files and large files**"
   ]
  },
  {
   "cell_type": "code",
   "source": [
    "mapreduce = MapReduceEngine()"
   ],
   "metadata": {
    "id": "k1ctMUovWdNd"
   },
   "execution_count": 25,
   "outputs": []
  },
  {
   "cell_type": "code",
   "metadata": {
    "colab": {
     "base_uri": "https://localhost:8080/",
     "height": 116,
     "referenced_widgets": [
      "d6b3e782e2e04ead930e3fe42f0695b8",
      "c9e72c58460f48899863a572f7f966b4",
      "3af0e4ff4d5b45bcaa041492beb92542",
      "5ac4ee6bc39e4e5ba1e54daa990326b2",
      "b93e977b4904457888596b0be7d12047",
      "1f0f1ecd695c4b2b8160ad1172b6795a",
      "c26534fb32db464a9357a245999c4f68",
      "1e08bcb5da924636b7f589a55cc6ec32",
      "b6b50eb4e1c1442c8d371e87afdcd483",
      "94dc8210673b4d59aa5ed357465e22b2",
      "1c769b83fcde4f65ac2d9af470795e0a",
      "38f2f87253d746019717849c85db6840",
      "2baf9f6dd54242a3ad7e895a0d713d40",
      "faa59b054dc74bdbb08e19959684652e",
      "ac80fa9e387c4af0a6b4a2d64385d0dd",
      "4a8b4faf7726406a84cc9e743c37e43a",
      "d9e81e4bb5f44f1b87145ac9bda7d165",
      "372e326ac1314db5a79da6f123194b1c",
      "30d492d51d104f8ca690e6736eb68116",
      "efd3962559dc438482e514fc476556af",
      "5eb3ddb0ace6471aaebbc4d92a9cfa97",
      "15e4e166580b4a01863af884f5134fa8"
     ]
    },
    "id": "jEQ0XH8cIfpc",
    "outputId": "e8dcd46e-97a4-406d-b09e-ad05ecc7cbdc"
   },
   "source": [
    "large_files_start = time()\n",
    "large_files_data = [f\"large_files/{_}\" for _ in os.listdir('large_files') if _.endswith('.csv')]\n",
    "large_files_status = mapreduce.execute(large_files_data, inverted_map, inverted_reduce)\n",
    "large_files_elapsed_time = np.round(time() - large_files_start, 3)\n",
    "print(large_files_status)\n",
    "print(f\"The MapReduce took {large_files_elapsed_time} seconds on the merged and large files\")"
   ],
   "execution_count": 26,
   "outputs": [
    {
     "output_type": "display_data",
     "data": {
      "application/vnd.jupyter.widget-view+json": {
       "model_id": "d6b3e782e2e04ead930e3fe42f0695b8",
       "version_minor": 0,
       "version_major": 2
      },
      "text/plain": [
       "Map Progress Bar:   0%|          | 0/319 [00:00<?, ?it/s]"
      ]
     },
     "metadata": {}
    },
    {
     "output_type": "display_data",
     "data": {
      "application/vnd.jupyter.widget-view+json": {
       "model_id": "38f2f87253d746019717849c85db6840",
       "version_minor": 0,
       "version_major": 2
      },
      "text/plain": [
       "Reduce Progress Bar:   0%|          | 0/24 [00:00<?, ?it/s]"
      ]
     },
     "metadata": {}
    },
    {
     "output_type": "stream",
     "name": "stdout",
     "text": [
      "MapReduce Completed\n",
      "The MapReduce took 261.533 seconds on the merged and large files\n"
     ]
    }
   ]
  },
  {
   "cell_type": "markdown",
   "source": [
    "**Run MapReduce on the original small files**"
   ],
   "metadata": {
    "id": "AG2vHiMMWXM4"
   }
  },
  {
   "cell_type": "code",
   "source": [
    "small_files_start = time()\n",
    "small_files_data = [_ for _ in os.listdir('.') if _.endswith('.csv')]\n",
    "small_files_status = mapreduce.execute(small_files_data, inverted_map, inverted_reduce)\n",
    "small_files_elapsed_time = np.round(time() - small_files_start, 3)\n",
    "print(small_files_status)\n",
    "print(f\"The MapReduce took {small_files_elapsed_time} seconds on the small files\")"
   ],
   "metadata": {
    "colab": {
     "base_uri": "https://localhost:8080/",
     "height": 116,
     "referenced_widgets": [
      "e7633e34717d4493b5b79b56a877ed1c",
      "bd6a7705cd8d4101b09128271004f796",
      "8ecec99945bb47b9b462d18977be2ae8",
      "ec5935545d544161957768eed62146f6",
      "c7fe81fe8d75488e88656ce818543432",
      "f172474dc58b4c4ba3e08b4cdb361a6f",
      "b394b798ad3847739fdd768a0185d069",
      "28835a796fcc490e992ca8420fcd9915",
      "66faf8d1ab4341c8af541720181209a5",
      "d671bc4506cc43c1a96fb9db628135a2",
      "08a5011f76ac4e32adb3d8a2c444c93e",
      "04e566009461420888b0f75a6629bfaa",
      "13c339a22a27458c8e7c683c891a9019",
      "0f53c887d00346a194b69633532f2b7f",
      "ce9668457d274c62a3d1f6ae7e511623",
      "f3e59b939fa34cc8bb59e0e316d5cab4",
      "c5929ea5aebf4f129671c3f1cd04c980",
      "ae3f810a6b574ffcb8c924fc81305cc8",
      "ac1bc04802264ea5bc12b75b9e94a617",
      "eba6deaaf49049aeae63ef15f4d5ee24",
      "351192d4f5b949b6bfd1a521640d00d8",
      "d0bd4fe7fec242468169d59c9dbd087c"
     ]
    },
    "id": "0laPtblPWOcz",
    "outputId": "842ff58d-5666-4e21-f703-f9aecbf38aa0"
   },
   "execution_count": 27,
   "outputs": [
    {
     "output_type": "display_data",
     "data": {
      "application/vnd.jupyter.widget-view+json": {
       "model_id": "e7633e34717d4493b5b79b56a877ed1c",
       "version_minor": 0,
       "version_major": 2
      },
      "text/plain": [
       "Map Progress Bar:   0%|          | 0/500 [00:00<?, ?it/s]"
      ]
     },
     "metadata": {}
    },
    {
     "output_type": "display_data",
     "data": {
      "application/vnd.jupyter.widget-view+json": {
       "model_id": "04e566009461420888b0f75a6629bfaa",
       "version_minor": 0,
       "version_major": 2
      },
      "text/plain": [
       "Reduce Progress Bar:   0%|          | 0/24 [00:00<?, ?it/s]"
      ]
     },
     "metadata": {}
    },
    {
     "output_type": "stream",
     "name": "stdout",
     "text": [
      "MapReduce Completed\n",
      "The MapReduce took 301.918 seconds on the small files\n"
     ]
    }
   ]
  },
  {
   "cell_type": "markdown",
   "source": [
    "We can clearly see that merging the small files **reduced** the runtime of the MapReduce"
   ],
   "metadata": {
    "id": "aQA_BfOdqyaV"
   }
  },
  {
   "cell_type": "markdown",
   "metadata": {
    "id": "CTopB07zIfpc"
   },
   "source": [
    "**Use python to delete all temporary data from mapreducetemp folder and delete SQLite database:**"
   ]
  },
  {
   "cell_type": "code",
   "metadata": {
    "id": "lCY143XjIfpc"
   },
   "source": [
    "mapreducetemp_path = \"mapreducetemp\"\n",
    "for file in os.listdir(mapreducetemp_path):\n",
    "    os.remove(os.path.join(mapreducetemp_path, file))\n",
    "os.remove(\"mydb.db\")"
   ],
   "execution_count": 28,
   "outputs": []
  }
 ]
}